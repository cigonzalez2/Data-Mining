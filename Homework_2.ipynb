{
 "cells": [
  {
   "cell_type": "markdown",
   "metadata": {},
   "source": [
    "# Tarea 2 : Seminario de Estadística (EPG 3341) \n",
    "### Camilo González Rojas\n",
    "##### 18 de Mayo"
   ]
  },
  {
   "cell_type": "markdown",
   "metadata": {},
   "source": [
    "**Nota**: La tarea fue realizada utilizando macOS por lo que los directorios se escriben utilizando `/`,  <br/> en Window se utiliza `\\` pero admite `/`, en cualquier caso, si se presenta algún error con la lectura, probar cambiar `/` por `\\`.  "
   ]
  },
  {
   "cell_type": "markdown",
   "metadata": {},
   "source": [
    "### Carga de Librerías"
   ]
  },
  {
   "cell_type": "markdown",
   "metadata": {},
   "source": [
    "Usaremos la libreria `os` para que el método que describe los datos pueda crear la carpeta `Analisis` en la raíz. Esto fue autorizado por el profesor. "
   ]
  },
  {
   "cell_type": "code",
   "execution_count": 1,
   "metadata": {},
   "outputs": [],
   "source": [
    "import matplotlib.pyplot as plt\n",
    "import numpy as np\n",
    "import os\n",
    "import pandas as pd\n",
    "import seaborn as sns\n",
    "from sklearn.model_selection import train_test_split\n",
    "from sklearn import tree\n",
    "from sklearn import preprocessing\n",
    "from sklearn import metrics\n",
    "from sklearn.metrics import confusion_matrix\n",
    "import statsmodels.api as sm\n",
    "import statsmodels.formula.api as smf\n",
    "import patsy"
   ]
  },
  {
   "cell_type": "markdown",
   "metadata": {},
   "source": [
    "### Separación de Datos"
   ]
  },
  {
   "cell_type": "markdown",
   "metadata": {},
   "source": [
    "En este paso dividimos nuestros datos en un archivo de entrenamiento y otro de prueba.   \n",
    "Se generan dos archivos en la ruta especificada uno con el 70% de los datos y otro con el 30%.  \n",
    "Notemos que en el enunciado no pide que este paso sea incluido como método de la clase.\n",
    "  "
   ]
  },
  {
   "cell_type": "code",
   "execution_count": 2,
   "metadata": {},
   "outputs": [],
   "source": [
    "def separacion_de_datos(ruta_archivo_original, ruta_archivos_separados):\n",
    "    try:\n",
    "        data = pd.read_csv(ruta_archivo_original)\n",
    "        split = train_test_split(data.index, test_size = 0.3)\n",
    "        data_train = data.loc[split[0]]\n",
    "        data_test = data.loc[split[1]]\n",
    "        del data_train['Unnamed: 0']\n",
    "        del data_test['Unnamed: 0']\n",
    "        data_train.to_csv(ruta_archivos_separados + '/data_train.csv', index = False)\n",
    "        data_test.to_csv(ruta_archivos_separados + '/data_test.csv', index = False)\n",
    "        msj = 'Los datos fueron separados y guardados correctamente.'\n",
    "        \n",
    "    except:\n",
    "        msj = 'Los datos no fueron guardados, revise su ruta de carga y de guardado por favor.'\n",
    "        \n",
    "    return print(msj)"
   ]
  },
  {
   "cell_type": "markdown",
   "metadata": {},
   "source": [
    "Dejaré escrita mi ruta como ejemplo."
   ]
  },
  {
   "cell_type": "code",
   "execution_count": 3,
   "metadata": {},
   "outputs": [
    {
     "name": "stdout",
     "output_type": "stream",
     "text": [
      "Los datos fueron separados y guardados correctamente.\n"
     ]
    }
   ],
   "source": [
    "ruta_cargar = '/Users/camilo/Google Drive/Universidad/Magíster en Estadística/2020-1/Minería de Datos con Python/Tareas/Tarea 2 2020/Entrega/loan.csv'\n",
    "ruta_guardar = '/Users/camilo/Google Drive/Universidad/Magíster en Estadística/2020-1/Minería de Datos con Python/Tareas/Tarea 2 2020/Entrega/Datos T-T'\n",
    "separacion_de_datos(ruta_cargar, ruta_guardar)"
   ]
  },
  {
   "cell_type": "markdown",
   "metadata": {},
   "source": [
    "### Definición de la Clase"
   ]
  },
  {
   "cell_type": "code",
   "execution_count": 2,
   "metadata": {},
   "outputs": [],
   "source": [
    "# Paso 1\n",
    "class Clasificador:\n",
    "\n",
    "    def __init__(self, ruta_datos, porcentaje_na):\n",
    "        self.ruta_datos = ruta_datos\n",
    "        self.base_de_datos = []\n",
    "        self.porcentaje_na = porcentaje_na\n",
    "        \n",
    "# Paso 2\n",
    "    def carga_de_datos(self):\n",
    "        try:\n",
    "            datos = pd.read_csv(self.ruta_datos)\n",
    "            for i in range(0, datos.shape[1]):\n",
    "                porcentaje = (datos.iloc[:,[i]].isna().sum()*100 / datos.shape[0])[0]                   # Calculo de Porcentaje de NA\n",
    "                if porcentaje > self.porcentaje_na:                                                     # Se distingue si el porcentaje de NA es mayor a p\n",
    "                    if datos.dtypes[i] != object:                                                       # Se distingue entre data categorica o numérica\n",
    "                        datos.iloc[:,[i]] = datos.iloc[:,[i]].fillna(-1)                                # Se le asigna -1 si es numérica\n",
    "                    elif datos.dtypes[i] == object:                                                     # Se distingue entre data categorica o numérica\n",
    "                        datos.iloc[:,[i]] = datos.iloc[:,[i]].fillna('categoria_aux')                   # Se asigna 'categoria_aux' \n",
    "                else:\n",
    "                    if datos.dtypes[i] != object:                                                       # Igual que lo anterior para % de NA menor o igual a \n",
    "                        datos.iloc[:,[i]] = datos.iloc[:,[i]].fillna(datos.iloc[:,[i]].median())        # Se usa la mediana o la moda según corresponda               \n",
    "                    elif datos.dtypes[i] == object:\n",
    "                        datos.iloc[:,[i]] = datos.iloc[:,[i]].fillna(datos.iloc[:,[i]].mode().loc[0])\n",
    "            self.base_de_datos = datos\n",
    "            self.base_de_datos.rename(columns={\n",
    "                'NumberOfTime30-59DaysPastDueNotWorse' : 'NumberOfTime3059DaysPastDueNotWorse',        # Se cambian los nombres con '-' \n",
    "                'NumberOfTime60-89DaysPastDueNotWorse' : 'NumberOfTime6089DaysPastDueNotWorse'         # debido a problemas con querys y ajustes\n",
    "                    }, inplace=True)\n",
    "            return self.base_de_datos\n",
    "        \n",
    "        except:\n",
    "            msj = 'Los datos no fueron cargados, revise su ruta por favor.'\n",
    "            return print(msj)\n",
    "    \n",
    "    \n",
    "# Paso 3\n",
    "    def analisis(self):\n",
    "        datos = self.base_de_datos\n",
    "        skewness = []\n",
    "        for i in range(0, datos.shape[1]):                                                              # Calculo de la asimetría\n",
    "            columna = datos.iloc[:,[i]]                                                                 # El calculo distingue entre variables \n",
    "            if datos.dtypes[i] != object:                                                               # numéricas y continuas\n",
    "                numerador_sk = (((columna - columna.mean())**3).sum())*(1/len(columna))\n",
    "                denominador_sk = ((((columna - columna.mean())**2).sum())*(1/(len(columna)-1)))**(3/2)\n",
    "                skewness.append((numerador_sk/denominador_sk)[0]) \n",
    "            else: \n",
    "                skewness.append('Categorica - Sin Skewness')\n",
    "        descripcion = datos.describe(include='all')\n",
    "        mediana = datos.median()\n",
    "        df_sk =pd.DataFrame(columns = [''])\n",
    "        for i in range(0, datos.shape[1]):\n",
    "            df_sk[datos.columns[i]] = [skewness[i]]\n",
    "        resumen = (df_sk.append(descripcion)).reset_index()\n",
    "        resumen.iloc[[0],[0]] = 'skewness'\n",
    "        resumen = resumen.rename(columns={'index': 'statistic'})\n",
    "        resumen = resumen.append(mediana, ignore_index=True)\n",
    "        resumen.at[(resumen.shape[0]-1), 'statistic'] = 'median'                                        # Se crea el resumen con el comando describe y de agrega\n",
    "        del resumen['']                                                                                 # tanto la asimetría como la mediana\n",
    "        try:                                                                                            # Se crea o se guarda la carpeta Analisis\n",
    "            path = os.getcwd()\n",
    "            os.mkdir(path+'/Analisis')\n",
    "            resumen.to_csv('Analisis/resumen.csv', index = False)\n",
    "        except:\n",
    "            resumen.to_csv('Analisis/resumen.csv', index = False)\n",
    "        for k in range(0, datos.shape[1]):                                                              # Se crean y se guardan las densidades o\n",
    "            plt.figure()                                                                                # en su defecto histogramas\n",
    "            columna_plot = datos.iloc[:,[k]]\n",
    "            try:\n",
    "                j = str(k)\n",
    "                sns.distplot(columna_plot, kde= True)\n",
    "                plt.savefig('Analisis/plot_variable_'+j+'.png')\n",
    "                plt.close()\n",
    "            except: \n",
    "                sns.distplot(columna_plot, kde= False)\n",
    "                plt.savefig('Analisis/plot_variable_'+j+'.png')\n",
    "                plt.close()        \n",
    "        return (print('El resumen descriptivo se ha guardado en la carpeta Analisis en la raiz de su proyecto.'),\n",
    "                print('Se sugiere fuertemente categorizar las variables cuyo gráfico es de color amarillo.'),\n",
    "                print('Nota: Puede que hayan otras variables que también sea necesario categorizar.'))\n",
    "    \n",
    "    \n",
    " # Paso 4\n",
    "    def transformacion(self, max_bins):                                                                            \n",
    "        desea_transformar = input('¿Desea transformar una variable? y/n:')   \n",
    "        print('-------------------------------------------------------------')\n",
    "        while desea_transformar == 'y':\n",
    "            n_col = input('Ingrese el numero de columna que desea transformar (ej: 7):')\n",
    "            n_col = int(n_col)\n",
    "            print('-------------------------------------------------------------')\n",
    "            print('Las transformaciones disponibles son las siguientes:')\n",
    "            print('1: log(x)')\n",
    "            print('2: raiz(x)')\n",
    "            print('3: 1/x')\n",
    "            print('4: x**(-2)')\n",
    "            tipo_transformacion = input('Ingrese el número de la transformación:')\n",
    "            tipo_transformacion = int(tipo_transformacion)\n",
    "            try:\n",
    "                col = self.base_de_datos.iloc[:,[n_col]]\n",
    "                if tipo_transformacion == 1:\n",
    "                    self.base_de_datos.iloc[:,[n_col]] = np.log(col + np.abs(np.min(col)) + 1) \n",
    "                if tipo_transformacion == 2:\n",
    "                    self.base_de_datos.iloc[:,[n_col]] = np.sqrt(col + np.abs(np.min(col)))\n",
    "                if tipo_transformacion == 3:\n",
    "                    self.base_de_datos.iloc[:,[n_col]] = 1/(col + np.abs(np.min(col)) + 1)\n",
    "                if tipo_transformacion == 4:\n",
    "                    self.base_de_datos.iloc[:,[n_col]] = (col + np.abs(np.min(col)) + 1)**-2\n",
    "            except:\n",
    "                print('-------------------------------------------------------------')\n",
    "                print('Hubo un error en la transformación, intente nuevamente.')\n",
    "            print('-------------------------------------------------------------')\n",
    "            desea_transformar = input('¿Desea transformar otra variable? y/n:')\n",
    "        print('-------------------------------------------------------------')\n",
    "        desea_categorizar = input('¿Desea categorizar una variable? y/n:')\n",
    "        while desea_categorizar == 'y':\n",
    "            n_col = input('Ingrese el numero de columna que desea categorizar (ej: 3):')\n",
    "            n_col = int(n_col)\n",
    "            col_name = self.base_de_datos.columns[n_col]\n",
    "            print(col_name)\n",
    "            if n_col in [3, 7, 8, 9, 10]:\n",
    "                print('Debido a la naturaleza de la variable el número de bins disponibles')\n",
    "                print('para que cada categoría tenga 5% de los datos son: ')\n",
    "                \n",
    "                if n_col == 3:\n",
    "                    bins_disp = input('2 y 3, elija una:')\n",
    "                    bins_disp = int(bins_disp)\n",
    "                    if bins_disp == 2:\n",
    "                        self.base_de_datos[col_name] = self.base_de_datos[col_name].replace(0, '[0,1)')\n",
    "                        self.base_de_datos[col_name] = self.base_de_datos[col_name].replace(range(1,100), '[1,98]')\n",
    "                        print('Éxito en la categorización.')\n",
    "                    if bins_disp == 3:\n",
    "                        self.base_de_datos[col_name] = self.base_de_datos[col_name].replace(0, '[0,1)')\n",
    "                        self.base_de_datos[col_name] = self.base_de_datos[col_name].replace(1, '[1,2)') \n",
    "                        self.base_de_datos[col_name] = self.base_de_datos[col_name].replace(range(2,100), '[2,98]')\n",
    "                        \n",
    "                        print('Éxito en la categorización.')\n",
    "                if n_col == 7:\n",
    "                    bins_disp = input('2, ingrese 2 si quiere categorizar: ')\n",
    "                    bins_disp = int(bins_disp)\n",
    "                    if bins_disp == 2:\n",
    "                        self.base_de_datos[col_name] = self.base_de_datos[col_name].replace(0, '[0,1)')\n",
    "                        self.base_de_datos[col_name] = self.base_de_datos[col_name].replace(range(1,100), '[1,98]')\n",
    "                        print('Éxito en la categorización.')\n",
    "                        \n",
    "                if n_col == 8:\n",
    "                    bins_disp = input('2, 3 y 4, elija una:')\n",
    "                    bins_disp = int(bins_disp)\n",
    "                    if bins_disp == 2:\n",
    "                        self.base_de_datos[col_name] = self.base_de_datos[col_name].replace(0, '[0,1)')\n",
    "                        self.base_de_datos[col_name] = self.base_de_datos[col_name].replace(range(1,100), '[1,54]')\n",
    "                        print('Éxito en la categorización.') \n",
    "                    if bins_disp == 3:\n",
    "                        self.base_de_datos[col_name] = self.base_de_datos[col_name].replace(0, '[0,1)')\n",
    "                        self.base_de_datos[col_name] = self.base_de_datos[col_name].replace(1, '[1,2)') \n",
    "                        self.base_de_datos[col_name] = self.base_de_datos[col_name].replace(range(2,100), '[2,54]')\n",
    "                        print('Éxito en la categorización.')\n",
    "                    if bins_disp == 4:\n",
    "                        self.base_de_datos[col_name] = self.base_de_datos[col_name].replace(0, '[0,1)')\n",
    "                        self.base_de_datos[col_name] = self.base_de_datos[col_name].replace(1, '[1,2)') \n",
    "                        self.base_de_datos[col_name] = self.base_de_datos[col_name].replace(2, '[2,3)') \n",
    "                        self.base_de_datos[col_name] = self.base_de_datos[col_name].replace(range(3,100), '[3,54]')\n",
    "                        print('Éxito en la categorización.')\n",
    "                        \n",
    "                if n_col == 9:\n",
    "                    bins_disp = input('2, ingrese 2 si quiere categorizar: ')\n",
    "                    bins_disp = int(bins_disp)\n",
    "                    if bins_disp == 2:\n",
    "                        self.base_de_datos[col_name] = self.base_de_datos[col_name].replace(0, '[0,1)')\n",
    "                        self.base_de_datos[col_name] = self.base_de_datos[col_name].replace(range(1,100), '[1,98]')\n",
    "                        print('Éxito en la categorización.')\n",
    "                             \n",
    "                if n_col == 10:\n",
    "                    bins_disp = input('2, 3 y 4, elija una:')\n",
    "                    bins_disp = int(bins_disp)\n",
    "                    self.base_de_datos[col_name] = self.base_de_datos[col_name].apply(np.int64)\n",
    "                    if bins_disp == 2:\n",
    "                        self.base_de_datos[col_name] = self.base_de_datos[col_name].replace(0, '[0,1)')\n",
    "                        self.base_de_datos[col_name] = self.base_de_datos[col_name].replace(range(1,100), '[1,20]')\n",
    "                        print('Éxito en la categorización.') \n",
    "                    if bins_disp == 3:\n",
    "                        self.base_de_datos[col_name] = self.base_de_datos[col_name].replace(0, '[0,1)')\n",
    "                        self.base_de_datos[col_name] = self.base_de_datos[col_name].replace(1, '[1,2)') \n",
    "                        self.base_de_datos[col_name] = self.base_de_datos[col_name].replace(range(2,100), '[2,20]')\n",
    "                        print('Éxito en la categorización.')\n",
    "                    if bins_disp == 4:\n",
    "                        self.base_de_datos[col_name] = self.base_de_datos[col_name].replace(0, '[0,1)')\n",
    "                        self.base_de_datos[col_name] = self.base_de_datos[col_name].replace(1, '[1,2)') \n",
    "                        self.base_de_datos[col_name] = self.base_de_datos[col_name].replace(2, '[2,3)') \n",
    "                        self.base_de_datos[col_name] = self.base_de_datos[col_name].replace(range(3,100), '[3,20]')\n",
    "                        print('Éxito en la categorización.')     \n",
    "            \n",
    "            else:\n",
    "                print('El numero máximo de divisiones ingresado fue: ', max_bins)\n",
    "                if max_bins <= 20:\n",
    "                    self.base_de_datos[col_name] = pd.qcut(self.base_de_datos[col_name], max_bins, duplicates = 'drop')\n",
    "                else: print('El número de bins elegidos no permite una categorización con 5% de datos por cada categoría.')\n",
    "            print('-------------------------------------------------------------------')\n",
    "            desea_categorizar = input('¿Desea categorizar otra variable? y/n:')\n",
    "        print('-------------------------------------------------------------')\n",
    "        return print('El proceso finalizó correctamente.')\n",
    "    \n",
    "\n",
    "# Paso 5\n",
    "    def relevancia(self): \n",
    "        n_col = input('Ingrese el numero de columna que desea conocer el IV e IG (ej: 3):')\n",
    "        n_col = int(n_col)\n",
    "        col_name = self.base_de_datos.columns[n_col]\n",
    "        df_local = self.base_de_datos\n",
    "        aux = df_local[col_name]\n",
    "        if self.base_de_datos.dtypes[n_col] == 'int64' or self.base_de_datos.dtypes[n_col] == 'float64':\n",
    "            df_local[col_name] = pd.qcut(df_local[col_name], 10, duplicates = 'drop')\n",
    "        else: None\n",
    "            \n",
    "        total_unos = self.base_de_datos.iloc[:,[0]].sum()[0]\n",
    "        total = len(self.base_de_datos.iloc[:,[0]])\n",
    "        total_ceros = total - total_unos\n",
    "        entropia = (-total_unos/total)*np.log(total_unos/total) - (total_ceros/total)*np.log(total_ceros/total)\n",
    "        tabla = df_local.groupby([col_name]).agg({'SeriousDlqin2yrs': [np.count_nonzero, len]})\n",
    "        tabla = tabla.SeriousDlqin2yrs\n",
    "        tabla = tabla.assign(count_zeros = lambda x: (x.len - x.count_nonzero))\n",
    "        tabla = tabla.assign(pc_ceros = lambda x: (x.count_zeros/total_ceros))\n",
    "        tabla = tabla.assign(pc_unos = lambda x: (x.count_nonzero/total_unos))\n",
    "        tabla = tabla.assign(WOE = lambda x: (np.log(x.pc_unos / x.pc_ceros)))\n",
    "        tabla = tabla.assign(IV = lambda x: abs(x.WOE*( x.pc_ceros - x.pc_unos)))\n",
    "        tabla = tabla.assign(entropy = lambda x: (x.len/total)*((-x.count_nonzero/x.len)*np.log(x.count_nonzero/x.len)\n",
    "                                                                - (x.count_zeros/x.len)*np.log(x.count_zeros/x.len)))\n",
    "        iv = tabla.IV.sum()\n",
    "        ig = entropia - tabla.entropy.sum()\n",
    "        df_local[col_name] = aux\n",
    "        print('Information Value: ', iv)\n",
    "        print('Information Gain: ', ig)\n",
    "        return None\n",
    "    \n",
    "    \n",
    "#Paso 6\n",
    "    def ajuste(self, profundidad):\n",
    "        aux = self.base_de_datos\n",
    "        df = self.base_de_datos.apply(preprocessing.LabelEncoder().fit_transform)\n",
    "        X = df.iloc[:,[1,2,3,4,5,6,7,8,9,10]]\n",
    "        Y = df.iloc[:,[0]]\n",
    "        self.arbol = tree.DecisionTreeClassifier(max_depth = profundidad)\n",
    "        self.arbol = self.arbol.fit(X, Y)\n",
    "        self.base_de_datos = aux\n",
    "        formula = \"SeriousDlqin2yrs ~ RevolvingUtilizationOfUnsecuredLines\" \n",
    "        formula = formula + \" +  age + C(NumberOfTime3059DaysPastDueNotWorse) + DebtRatio\"\n",
    "        formula = formula + \" + NumberOfOpenCreditLinesAndLoans + C(NumberOfTimes90DaysLate)\"\n",
    "        formula = formula + \" + C(NumberRealEstateLoansOrLines) + C(NumberOfTime6089DaysPastDueNotWorse)\"\n",
    "        formula = formula + \" + C(NumberOfDependents)\"\n",
    "        self.logistica = smf.logit(formula = formula, data = self.base_de_datos)\n",
    "        self.logistica_fit = self.logistica.fit()\n",
    "        return print('Se han ajustados los modelos el Árbol de Decisión y la Regresión Logística.')\n",
    "\n",
    "    \n",
    "#Paso 7\n",
    "    def evaluacion(self):\n",
    "        self.prediccion_logit_train = self.logistica_fit.predict(self.base_de_datos)\n",
    "        Y = self.base_de_datos.iloc[:,[0]]\n",
    "        self.roc_train = metrics.roc_curve(Y, self.prediccion_logit_train)\n",
    "        auc_train = metrics.auc(self.roc_train[0], self.roc_train[1])\n",
    "        print('Presentamos la Curva ROC:')\n",
    "        plt.plot(self.roc_train[0], self.roc_train[1])\n",
    "        plt.plot([0,1], [0,1])\n",
    "        plt.show()\n",
    "        print('El AUC de la regresión logística es: ', auc_train)\n",
    "        umbral = self.roc_train[2][3807]\n",
    "        prediccion_logit_train = (self.prediccion_logit_train >= umbral) * 1\n",
    "        matriz_logit = metrics.confusion_matrix(Y, prediccion_logit_train)\n",
    "        tn, fp, fn, tp = matriz_logit.ravel()\n",
    "        accuracy_logit = (tp + tn)/(tp + tn+ fp + fn)\n",
    "        precision_logit = tp/(tp + fp)\n",
    "        recall_logit = tp/(tp + fn)\n",
    "        f1_logit = ( 2 * (precision_logit * recall_logit) / (precision_logit + recall_logit) )\n",
    "        print('El accuracy de la regresión es: ', accuracy_logit)\n",
    "        print('La precision de la regresión es: ', precision_logit)\n",
    "        print('El recall de la regresión es: ', recall_logit)\n",
    "        print('El puntaje F1 de la regresión es: ', f1_logit)\n",
    "        aux = self.base_de_datos\n",
    "        df = self.base_de_datos.apply(preprocessing.LabelEncoder().fit_transform)\n",
    "        X = df.iloc[:,[1,2,3,4,5,6,7,8,9,10]]\n",
    "        Y = df.iloc[:,[0]]\n",
    "        prediccion_arbol_train = self.arbol.predict(X)\n",
    "        self.base_de_datos = aux\n",
    "        matriz_arbol = confusion_matrix(Y, prediccion_arbol_train)\n",
    "        tn, fp, fn, tp = matriz_arbol.ravel()\n",
    "        accuracy_arbol = (tp + tn)/(tp + tn+ fp + fn)\n",
    "        precision_arbol = tp/(tp + fp)\n",
    "        recall_arbol = tp/(tp + fn)\n",
    "        f1_arbol = 2 * (precision_arbol * recall_arbol) / (precision_arbol + recall_arbol)\n",
    "        print('El accuracy del árbol es: ', accuracy_arbol)\n",
    "        print('La precision del árbol es: ', precision_arbol)\n",
    "        print('El recall del árbol es: ', recall_arbol)\n",
    "        print('El puntaje F1 del árbol es: ', f1_arbol)\n",
    "        return\n",
    "    \n",
    "    \n",
    "#Paso 8\n",
    "    def predecir(self, nueva_data):\n",
    "        prediccion_nueva_logit_prob = self.logistica_fit.predict(nueva_data)\n",
    "        prediccion_nueva_logit = (prediccion_nueva_logit_prob >= 0.184156) * 1\n",
    "        df_pred_arbol = nueva_data.apply(preprocessing.LabelEncoder().fit_transform)\n",
    "        X = df_pred_arbol.iloc[:,[1,2,3,4,5,6,7,8,9,10]]\n",
    "        prediccion_nueva_arbol = self.arbol.predict(X)\n",
    "        dic = {'Probabilidades Predichas Logística' : prediccion_nueva_logit_prob, \n",
    "               'Predicción Logística' : prediccion_nueva_logit, \n",
    "               'Predicción Árbol' : prediccion_nueva_arbol}\n",
    "        return dic"
   ]
  },
  {
   "cell_type": "markdown",
   "metadata": {},
   "source": [
    "### Prueba de la Clase"
   ]
  },
  {
   "cell_type": "markdown",
   "metadata": {},
   "source": [
    "#### Directorio de la base de datos y creación de objeto de prueba "
   ]
  },
  {
   "cell_type": "code",
   "execution_count": 3,
   "metadata": {},
   "outputs": [],
   "source": [
    "ruta1 = '/Users/camilo/Google Drive/Universidad/Magíster en Estadística/2020-1/Minería de Datos con Python/Tareas/Tarea 2 2020/Entrega/Datos T-T/data_train.csv'\n",
    "clase_train = Clasificador(ruta_datos = ruta1, porcentaje_na = 20)"
   ]
  },
  {
   "cell_type": "markdown",
   "metadata": {},
   "source": [
    "#### Carga de Datos"
   ]
  },
  {
   "cell_type": "markdown",
   "metadata": {},
   "source": [
    "Notemos que durante la carga de datos se hace un cambio en los nombres de las variables, pues el caracter `-` causa conflicto con algunos comandos."
   ]
  },
  {
   "cell_type": "code",
   "execution_count": 4,
   "metadata": {},
   "outputs": [
    {
     "data": {
      "text/html": [
       "<div>\n",
       "<style scoped>\n",
       "    .dataframe tbody tr th:only-of-type {\n",
       "        vertical-align: middle;\n",
       "    }\n",
       "\n",
       "    .dataframe tbody tr th {\n",
       "        vertical-align: top;\n",
       "    }\n",
       "\n",
       "    .dataframe thead th {\n",
       "        text-align: right;\n",
       "    }\n",
       "</style>\n",
       "<table border=\"1\" class=\"dataframe\">\n",
       "  <thead>\n",
       "    <tr style=\"text-align: right;\">\n",
       "      <th></th>\n",
       "      <th>SeriousDlqin2yrs</th>\n",
       "      <th>RevolvingUtilizationOfUnsecuredLines</th>\n",
       "      <th>age</th>\n",
       "      <th>NumberOfTime3059DaysPastDueNotWorse</th>\n",
       "      <th>DebtRatio</th>\n",
       "      <th>MonthlyIncome</th>\n",
       "      <th>NumberOfOpenCreditLinesAndLoans</th>\n",
       "      <th>NumberOfTimes90DaysLate</th>\n",
       "      <th>NumberRealEstateLoansOrLines</th>\n",
       "      <th>NumberOfTime6089DaysPastDueNotWorse</th>\n",
       "      <th>NumberOfDependents</th>\n",
       "    </tr>\n",
       "  </thead>\n",
       "  <tbody>\n",
       "    <tr>\n",
       "      <th>0</th>\n",
       "      <td>0</td>\n",
       "      <td>0.297711</td>\n",
       "      <td>63</td>\n",
       "      <td>0</td>\n",
       "      <td>0.226709</td>\n",
       "      <td>2500.0</td>\n",
       "      <td>9</td>\n",
       "      <td>0</td>\n",
       "      <td>0</td>\n",
       "      <td>0</td>\n",
       "      <td>0.0</td>\n",
       "    </tr>\n",
       "    <tr>\n",
       "      <th>1</th>\n",
       "      <td>0</td>\n",
       "      <td>0.167853</td>\n",
       "      <td>53</td>\n",
       "      <td>0</td>\n",
       "      <td>0.378384</td>\n",
       "      <td>4468.0</td>\n",
       "      <td>9</td>\n",
       "      <td>0</td>\n",
       "      <td>1</td>\n",
       "      <td>0</td>\n",
       "      <td>2.0</td>\n",
       "    </tr>\n",
       "    <tr>\n",
       "      <th>2</th>\n",
       "      <td>0</td>\n",
       "      <td>0.546554</td>\n",
       "      <td>67</td>\n",
       "      <td>3</td>\n",
       "      <td>0.910272</td>\n",
       "      <td>4000.0</td>\n",
       "      <td>16</td>\n",
       "      <td>0</td>\n",
       "      <td>2</td>\n",
       "      <td>0</td>\n",
       "      <td>0.0</td>\n",
       "    </tr>\n",
       "    <tr>\n",
       "      <th>3</th>\n",
       "      <td>0</td>\n",
       "      <td>0.099377</td>\n",
       "      <td>45</td>\n",
       "      <td>0</td>\n",
       "      <td>0.235593</td>\n",
       "      <td>8658.0</td>\n",
       "      <td>9</td>\n",
       "      <td>0</td>\n",
       "      <td>2</td>\n",
       "      <td>0</td>\n",
       "      <td>3.0</td>\n",
       "    </tr>\n",
       "    <tr>\n",
       "      <th>4</th>\n",
       "      <td>0</td>\n",
       "      <td>0.000000</td>\n",
       "      <td>31</td>\n",
       "      <td>0</td>\n",
       "      <td>0.629446</td>\n",
       "      <td>3429.0</td>\n",
       "      <td>5</td>\n",
       "      <td>0</td>\n",
       "      <td>1</td>\n",
       "      <td>0</td>\n",
       "      <td>0.0</td>\n",
       "    </tr>\n",
       "  </tbody>\n",
       "</table>\n",
       "</div>"
      ],
      "text/plain": [
       "   SeriousDlqin2yrs  RevolvingUtilizationOfUnsecuredLines  age  \\\n",
       "0                 0                              0.297711   63   \n",
       "1                 0                              0.167853   53   \n",
       "2                 0                              0.546554   67   \n",
       "3                 0                              0.099377   45   \n",
       "4                 0                              0.000000   31   \n",
       "\n",
       "   NumberOfTime3059DaysPastDueNotWorse  DebtRatio  MonthlyIncome  \\\n",
       "0                                    0   0.226709         2500.0   \n",
       "1                                    0   0.378384         4468.0   \n",
       "2                                    3   0.910272         4000.0   \n",
       "3                                    0   0.235593         8658.0   \n",
       "4                                    0   0.629446         3429.0   \n",
       "\n",
       "   NumberOfOpenCreditLinesAndLoans  NumberOfTimes90DaysLate  \\\n",
       "0                                9                        0   \n",
       "1                                9                        0   \n",
       "2                               16                        0   \n",
       "3                                9                        0   \n",
       "4                                5                        0   \n",
       "\n",
       "   NumberRealEstateLoansOrLines  NumberOfTime6089DaysPastDueNotWorse  \\\n",
       "0                             0                                    0   \n",
       "1                             1                                    0   \n",
       "2                             2                                    0   \n",
       "3                             2                                    0   \n",
       "4                             1                                    0   \n",
       "\n",
       "   NumberOfDependents  \n",
       "0                 0.0  \n",
       "1                 2.0  \n",
       "2                 0.0  \n",
       "3                 3.0  \n",
       "4                 0.0  "
      ]
     },
     "execution_count": 4,
     "metadata": {},
     "output_type": "execute_result"
    }
   ],
   "source": [
    "df_train = clase_train.carga_de_datos()\n",
    "df_train.head()"
   ]
  },
  {
   "cell_type": "markdown",
   "metadata": {},
   "source": [
    "#### Tratamiento de Datos Faltantes"
   ]
  },
  {
   "cell_type": "markdown",
   "metadata": {},
   "source": [
    "Se verifica que el método `carga_de_datos` que hace el tratamiento de observaciones NA."
   ]
  },
  {
   "cell_type": "code",
   "execution_count": 6,
   "metadata": {},
   "outputs": [
    {
     "data": {
      "text/plain": [
       "SeriousDlqin2yrs                        0.0\n",
       "RevolvingUtilizationOfUnsecuredLines    0.0\n",
       "age                                     0.0\n",
       "NumberOfTime3059DaysPastDueNotWorse     0.0\n",
       "DebtRatio                               0.0\n",
       "MonthlyIncome                           0.0\n",
       "NumberOfOpenCreditLinesAndLoans         0.0\n",
       "NumberOfTimes90DaysLate                 0.0\n",
       "NumberRealEstateLoansOrLines            0.0\n",
       "NumberOfTime6089DaysPastDueNotWorse     0.0\n",
       "NumberOfDependents                      0.0\n",
       "dtype: float64"
      ]
     },
     "execution_count": 6,
     "metadata": {},
     "output_type": "execute_result"
    }
   ],
   "source": [
    "df_train.isna().sum()*100 / df_train.shape[0]"
   ]
  },
  {
   "cell_type": "markdown",
   "metadata": {},
   "source": [
    "#### Analisis de los Datos"
   ]
  },
  {
   "cell_type": "markdown",
   "metadata": {},
   "source": [
    "Se verifica que el método `analisis` que hace un analisis de la base de datos."
   ]
  },
  {
   "cell_type": "code",
   "execution_count": 84,
   "metadata": {},
   "outputs": [
    {
     "name": "stdout",
     "output_type": "stream",
     "text": [
      "El resumen descriptivo se ha guardado en la carpeta Analisis en la raiz de su proyecto.\n",
      "Se sugiere fuertemente categorizar las variables cuyo gráfico es de color amarillo.\n",
      "Nota: Puede que hayan otras variables que también sea necesario categorizar.\n"
     ]
    }
   ],
   "source": [
    "analisis = clase_train.analisis()"
   ]
  },
  {
   "cell_type": "markdown",
   "metadata": {},
   "source": [
    "#### Categorización y Transformación de Variables"
   ]
  },
  {
   "cell_type": "markdown",
   "metadata": {},
   "source": [
    "Revisando el resultado del análisis de las variable se sugiere categorizar algunas columnas.\n",
    "Esto se debe a que son variables cardinales y el aplicando transformaciones no mejora significativamente su asimetría. <br/>\n",
    "Por otro lado se sugiere transformar las siguientes variables ordenadas por columna, debido a que mejora su asimetría y kurtosis.\n",
    "\n",
    "|     0     |          1            |        2       |      3      |        4          |       5         |        6        |      7      |           8           |      9      |           10          |\n",
    "|:---------:|:---------------------:|:--------------:|:-----------:|:-----------------:|:---------------:|:---------------:|:-----------:|:---------------------:|:-----------:|:---------------------:|\n",
    "| Respuesta |   $$\\frac{1}{x^2}$$   | No Transformar | Categorizar |  $$\\frac{1}{x}$$  |  $$\\log_e x$$   |  No Transformar | Categorizar |     Categorizar       | Categorizar |      Categorizar      |\n",
    "\n",
    "\n",
    "\n",
    "Para el tratamiento de NA se usó un código -1 por lo que para hacer la transformación se le suma el mínimo en valor absoluto más 1 a todas las observaciones para evitar indefiniciones."
   ]
  },
  {
   "cell_type": "markdown",
   "metadata": {},
   "source": [
    "Para las transformaciones y categorizaciones seguimos la tabla anterior, para la categorización usaremos el máximo de bins ofrecido."
   ]
  },
  {
   "cell_type": "code",
   "execution_count": 5,
   "metadata": {},
   "outputs": [
    {
     "name": "stdin",
     "output_type": "stream",
     "text": [
      "¿Desea transformar una variable? y/n: y\n"
     ]
    },
    {
     "name": "stdout",
     "output_type": "stream",
     "text": [
      "-------------------------------------------------------------\n"
     ]
    },
    {
     "name": "stdin",
     "output_type": "stream",
     "text": [
      "Ingrese el numero de columna que desea transformar (ej: 7): 1\n"
     ]
    },
    {
     "name": "stdout",
     "output_type": "stream",
     "text": [
      "-------------------------------------------------------------\n",
      "Las transformaciones disponibles son las siguientes:\n",
      "1: log(x)\n",
      "2: raiz(x)\n",
      "3: 1/x\n",
      "4: x**(-2)\n"
     ]
    },
    {
     "name": "stdin",
     "output_type": "stream",
     "text": [
      "Ingrese el número de la transformación: 4\n"
     ]
    },
    {
     "name": "stdout",
     "output_type": "stream",
     "text": [
      "-------------------------------------------------------------\n"
     ]
    },
    {
     "name": "stdin",
     "output_type": "stream",
     "text": [
      "¿Desea transformar otra variable? y/n: y\n",
      "Ingrese el numero de columna que desea transformar (ej: 7): 4\n"
     ]
    },
    {
     "name": "stdout",
     "output_type": "stream",
     "text": [
      "-------------------------------------------------------------\n",
      "Las transformaciones disponibles son las siguientes:\n",
      "1: log(x)\n",
      "2: raiz(x)\n",
      "3: 1/x\n",
      "4: x**(-2)\n"
     ]
    },
    {
     "name": "stdin",
     "output_type": "stream",
     "text": [
      "Ingrese el número de la transformación: 3\n"
     ]
    },
    {
     "name": "stdout",
     "output_type": "stream",
     "text": [
      "-------------------------------------------------------------\n"
     ]
    },
    {
     "name": "stdin",
     "output_type": "stream",
     "text": [
      "¿Desea transformar otra variable? y/n: y\n",
      "Ingrese el numero de columna que desea transformar (ej: 7): 5\n"
     ]
    },
    {
     "name": "stdout",
     "output_type": "stream",
     "text": [
      "-------------------------------------------------------------\n",
      "Las transformaciones disponibles son las siguientes:\n",
      "1: log(x)\n",
      "2: raiz(x)\n",
      "3: 1/x\n",
      "4: x**(-2)\n"
     ]
    },
    {
     "name": "stdin",
     "output_type": "stream",
     "text": [
      "Ingrese el número de la transformación: 1\n"
     ]
    },
    {
     "name": "stdout",
     "output_type": "stream",
     "text": [
      "-------------------------------------------------------------\n"
     ]
    },
    {
     "name": "stdin",
     "output_type": "stream",
     "text": [
      "¿Desea transformar otra variable? y/n: n\n"
     ]
    },
    {
     "name": "stdout",
     "output_type": "stream",
     "text": [
      "-------------------------------------------------------------\n"
     ]
    },
    {
     "name": "stdin",
     "output_type": "stream",
     "text": [
      "¿Desea categorizar una variable? y/n: y\n",
      "Ingrese el numero de columna que desea categorizar (ej: 3): 3\n"
     ]
    },
    {
     "name": "stdout",
     "output_type": "stream",
     "text": [
      "NumberOfTime3059DaysPastDueNotWorse\n",
      "Debido a la naturaleza de la variable el número de bins disponibles\n",
      "para que cada categoría tenga 5% de los datos son: \n"
     ]
    },
    {
     "name": "stdin",
     "output_type": "stream",
     "text": [
      "2 y 3, elija una: 3\n"
     ]
    },
    {
     "name": "stdout",
     "output_type": "stream",
     "text": [
      "Éxito en la categorización.\n",
      "-------------------------------------------------------------------\n"
     ]
    },
    {
     "name": "stdin",
     "output_type": "stream",
     "text": [
      "¿Desea categorizar otra variable? y/n: y\n",
      "Ingrese el numero de columna que desea categorizar (ej: 3): 7\n"
     ]
    },
    {
     "name": "stdout",
     "output_type": "stream",
     "text": [
      "NumberOfTimes90DaysLate\n",
      "Debido a la naturaleza de la variable el número de bins disponibles\n",
      "para que cada categoría tenga 5% de los datos son: \n"
     ]
    },
    {
     "name": "stdin",
     "output_type": "stream",
     "text": [
      "2, ingrese 2 si quiere categorizar:  2\n"
     ]
    },
    {
     "name": "stdout",
     "output_type": "stream",
     "text": [
      "Éxito en la categorización.\n",
      "-------------------------------------------------------------------\n"
     ]
    },
    {
     "name": "stdin",
     "output_type": "stream",
     "text": [
      "¿Desea categorizar otra variable? y/n: y\n",
      "Ingrese el numero de columna que desea categorizar (ej: 3): 8\n"
     ]
    },
    {
     "name": "stdout",
     "output_type": "stream",
     "text": [
      "NumberRealEstateLoansOrLines\n",
      "Debido a la naturaleza de la variable el número de bins disponibles\n",
      "para que cada categoría tenga 5% de los datos son: \n"
     ]
    },
    {
     "name": "stdin",
     "output_type": "stream",
     "text": [
      "2, 3 y 4, elija una: 4\n"
     ]
    },
    {
     "name": "stdout",
     "output_type": "stream",
     "text": [
      "Éxito en la categorización.\n",
      "-------------------------------------------------------------------\n"
     ]
    },
    {
     "name": "stdin",
     "output_type": "stream",
     "text": [
      "¿Desea categorizar otra variable? y/n: y\n",
      "Ingrese el numero de columna que desea categorizar (ej: 3): 9\n"
     ]
    },
    {
     "name": "stdout",
     "output_type": "stream",
     "text": [
      "NumberOfTime6089DaysPastDueNotWorse\n",
      "Debido a la naturaleza de la variable el número de bins disponibles\n",
      "para que cada categoría tenga 5% de los datos son: \n"
     ]
    },
    {
     "name": "stdin",
     "output_type": "stream",
     "text": [
      "2, ingrese 2 si quiere categorizar:  2\n"
     ]
    },
    {
     "name": "stdout",
     "output_type": "stream",
     "text": [
      "Éxito en la categorización.\n",
      "-------------------------------------------------------------------\n"
     ]
    },
    {
     "name": "stdin",
     "output_type": "stream",
     "text": [
      "¿Desea categorizar otra variable? y/n: y\n",
      "Ingrese el numero de columna que desea categorizar (ej: 3): 10\n"
     ]
    },
    {
     "name": "stdout",
     "output_type": "stream",
     "text": [
      "NumberOfDependents\n",
      "Debido a la naturaleza de la variable el número de bins disponibles\n",
      "para que cada categoría tenga 5% de los datos son: \n"
     ]
    },
    {
     "name": "stdin",
     "output_type": "stream",
     "text": [
      "2, 3 y 4, elija una: 4\n"
     ]
    },
    {
     "name": "stdout",
     "output_type": "stream",
     "text": [
      "Éxito en la categorización.\n",
      "-------------------------------------------------------------------\n"
     ]
    },
    {
     "name": "stdin",
     "output_type": "stream",
     "text": [
      "¿Desea categorizar otra variable? y/n: n\n"
     ]
    },
    {
     "name": "stdout",
     "output_type": "stream",
     "text": [
      "-------------------------------------------------------------\n",
      "El proceso finalizó correctamente.\n"
     ]
    }
   ],
   "source": [
    "clase_train.transformacion(max_bins = 10)"
   ]
  },
  {
   "cell_type": "markdown",
   "metadata": {},
   "source": [
    "#### Verificación de la Categorización con al menos 5% de los Datos"
   ]
  },
  {
   "cell_type": "markdown",
   "metadata": {},
   "source": [
    "Se verifica que el método `transformacion` dejó todas las categorías con al menos 5% de los datos."
   ]
  },
  {
   "cell_type": "code",
   "execution_count": 6,
   "metadata": {},
   "outputs": [
    {
     "data": {
      "text/plain": [
       "[0,1)     83.929524\n",
       "[1,2)     10.822857\n",
       "[2,98]     5.247619\n",
       "Name: NumberOfTime3059DaysPastDueNotWorse, dtype: float64"
      ]
     },
     "metadata": {},
     "output_type": "display_data"
    },
    {
     "data": {
      "text/plain": [
       "[0,1)     94.469524\n",
       "[1,98]     5.530476\n",
       "Name: NumberOfTimes90DaysLate, dtype: float64"
      ]
     },
     "metadata": {},
     "output_type": "display_data"
    },
    {
     "data": {
      "text/plain": [
       "[0,1)     37.534286\n",
       "[1,2)     34.935238\n",
       "[2,3)     20.894286\n",
       "[3,54]     6.636190\n",
       "Name: NumberRealEstateLoansOrLines, dtype: float64"
      ]
     },
     "metadata": {},
     "output_type": "display_data"
    },
    {
     "data": {
      "text/plain": [
       "[0,1)     94.922857\n",
       "[1,98]     5.077143\n",
       "Name: NumberOfTime6089DaysPastDueNotWorse, dtype: float64"
      ]
     },
     "metadata": {},
     "output_type": "display_data"
    },
    {
     "data": {
      "text/plain": [
       "[0,1)     60.623810\n",
       "[1,2)     17.478095\n",
       "[2,3)     13.032381\n",
       "[3,20]     8.865714\n",
       "Name: NumberOfDependents, dtype: float64"
      ]
     },
     "metadata": {},
     "output_type": "display_data"
    }
   ],
   "source": [
    "display(100*(df_train['NumberOfTime3059DaysPastDueNotWorse'].value_counts()/df_train.shape[0]))\n",
    "display(100*(df_train['NumberOfTimes90DaysLate'].value_counts()/df_train.shape[0]))\n",
    "display(100*(df_train['NumberRealEstateLoansOrLines'].value_counts()/df_train.shape[0]))\n",
    "display(100*(df_train['NumberOfTime6089DaysPastDueNotWorse'].value_counts()/df_train.shape[0]))\n",
    "display(100*(df_train['NumberOfDependents'].value_counts()/df_train.shape[0]))"
   ]
  },
  {
   "cell_type": "markdown",
   "metadata": {},
   "source": [
    "#### Relevancia de Variables"
   ]
  },
  {
   "cell_type": "markdown",
   "metadata": {},
   "source": [
    "Por medio del método `relevancia` vemos los IV e IG de las variables. Si bien el algoritmo se hizo pensando en cualquier tipo de variable,\n",
    "solo lo ocuparemos en el caso de variables categóricas por el enunciado, sin embargo para las otras variables usaremos el test de Wald (`.summary()`). Posteriormente en el análisis solo `MonthlyIncome` resulta no significativa, se probó con transformaciones pero solo logra bajar el AUC, para ahorrar tiempo se descarta en este paso, aunque si destacamos que llama la atención que esta variable no entre al modelo dado a que es el ingreso mensual."
   ]
  },
  {
   "cell_type": "code",
   "execution_count": 8,
   "metadata": {},
   "outputs": [
    {
     "name": "stdin",
     "output_type": "stream",
     "text": [
      "Ingrese el numero de columna que desea conocer el IV e IG (ej: 3): 3\n"
     ]
    },
    {
     "name": "stdout",
     "output_type": "stream",
     "text": [
      "Information Value:  0.7427411438034629\n",
      "Information Gain:  0.025777547046574728\n"
     ]
    }
   ],
   "source": [
    "clase_train.relevancia()"
   ]
  },
  {
   "cell_type": "code",
   "execution_count": 9,
   "metadata": {},
   "outputs": [
    {
     "name": "stdin",
     "output_type": "stream",
     "text": [
      "Ingrese el numero de columna que desea conocer el IV e IG (ej: 3): 7\n"
     ]
    },
    {
     "name": "stdout",
     "output_type": "stream",
     "text": [
      "Information Value:  0.8398004805067257\n",
      "Information Gain:  0.03080737738019626\n"
     ]
    }
   ],
   "source": [
    "clase_train.relevancia()"
   ]
  },
  {
   "cell_type": "code",
   "execution_count": 10,
   "metadata": {},
   "outputs": [
    {
     "name": "stdin",
     "output_type": "stream",
     "text": [
      "Ingrese el numero de columna que desea conocer el IV e IG (ej: 3): 8\n"
     ]
    },
    {
     "name": "stdout",
     "output_type": "stream",
     "text": [
      "Information Value:  0.05636186863324966\n",
      "Information Gain:  0.0017573433413763662\n"
     ]
    }
   ],
   "source": [
    "clase_train.relevancia()"
   ]
  },
  {
   "cell_type": "code",
   "execution_count": 11,
   "metadata": {},
   "outputs": [
    {
     "name": "stdin",
     "output_type": "stream",
     "text": [
      "Ingrese el numero de columna que desea conocer el IV e IG (ej: 3): 9\n"
     ]
    },
    {
     "name": "stdout",
     "output_type": "stream",
     "text": [
      "Information Value:  0.5624481585999094\n",
      "Information Gain:  0.020676921977342416\n"
     ]
    }
   ],
   "source": [
    "clase_train.relevancia()"
   ]
  },
  {
   "cell_type": "code",
   "execution_count": 12,
   "metadata": {},
   "outputs": [
    {
     "name": "stdin",
     "output_type": "stream",
     "text": [
      "Ingrese el numero de columna que desea conocer el IV e IG (ej: 3): 10\n"
     ]
    },
    {
     "name": "stdout",
     "output_type": "stream",
     "text": [
      "Information Value:  0.03600441664030993\n",
      "Information Gain:  0.0011467537080135093\n"
     ]
    }
   ],
   "source": [
    "clase_train.relevancia()"
   ]
  },
  {
   "cell_type": "markdown",
   "metadata": {},
   "source": [
    "Se decide no descartar las variables debido a que todas tienen algo que aportar al modelo, esto no sorprende debido a que las variables categóricas tienen relación directa con la morosidad (incluso uno podría pensar que se produce separación completa o quasi-completa, sin embargo no es el caso). Como observavión, para el Information Value se utilizó la regla sobre 0.02 se incluye al modelo."
   ]
  },
  {
   "cell_type": "markdown",
   "metadata": {},
   "source": [
    "#### Ajuste del Árbol y la Regresión Logística"
   ]
  },
  {
   "cell_type": "markdown",
   "metadata": {},
   "source": [
    "Para el caso de la regresión logística se probó utilizando interacción, sin embargo el aumento de las medidas de ajuste no aumentaron siginificativamentes para compensar el gasto computacional. "
   ]
  },
  {
   "cell_type": "code",
   "execution_count": 7,
   "metadata": {},
   "outputs": [
    {
     "name": "stdout",
     "output_type": "stream",
     "text": [
      "Optimization terminated successfully.\n",
      "         Current function value: 0.183916\n",
      "         Iterations 8\n",
      "Se han ajustados los modelos el Árbol de Decisión y la Regresión Logística.\n"
     ]
    }
   ],
   "source": [
    "clase_train.ajuste(10)"
   ]
  },
  {
   "cell_type": "code",
   "execution_count": 8,
   "metadata": {},
   "outputs": [
    {
     "name": "stdout",
     "output_type": "stream",
     "text": [
      "Presentamos la Curva ROC:\n"
     ]
    },
    {
     "data": {
      "image/png": "[encoded data removed]",
      "text/plain": [
       "<Figure size 432x288 with 1 Axes>"
      ]
     },
     "metadata": {
      "needs_background": "light"
     },
     "output_type": "display_data"
    },
    {
     "name": "stdout",
     "output_type": "stream",
     "text": [
      "El AUC de la regresión logística es:  0.855226115733936\n",
      "El accuracy de la regresión es:  0.9162666666666667\n",
      "La precision de la regresión es:  0.39623750734861846\n",
      "El recall de la regresión es:  0.47957876761064466\n",
      "El puntaje F1 de la regresión es:  0.4339428277105331\n",
      "El accuracy del árbol es:  0.9433428571428571\n",
      "La precision del árbol es:  0.7240232751454697\n",
      "El recall del árbol es:  0.24790095346520563\n",
      "El puntaje F1 del árbol es:  0.3693416728506308\n"
     ]
    }
   ],
   "source": [
    "roc = clase_train.evaluacion()"
   ]
  },
  {
   "cell_type": "markdown",
   "metadata": {},
   "source": [
    "En ambos modelos tenemos un muy buen accuracy, sobre todo el árbol, sin embargo dependiendo del objetivo de la clasificación se puede prestar más atención a una métrica más que la otra (recall y precision). "
   ]
  },
  {
   "cell_type": "markdown",
   "metadata": {},
   "source": [
    "#### Calculo del Mejor Umbral "
   ]
  },
  {
   "cell_type": "markdown",
   "metadata": {},
   "source": [
    "Con el siguiente código se hizo el calculo del mejor umbral, este es un poco demoroso debido al gran largo de la lista del ROC, es por esto que lo dejamos \n",
    "solo escrito. "
   ]
  },
  {
   "cell_type": "markdown",
   "metadata": {},
   "source": [
    "`Y = df_train.iloc[:,[0]]\n",
    "f1_logit = []\n",
    "for k in range(len(clase_train.roc_train[2])):\n",
    "    umbral = clase_train.roc_train[2][k]\n",
    "    preds_val = (clase_train.prediccion_logit_train >= umbral) * 1\n",
    "    matriz_logit = metrics.confusion_matrix(Y, preds_val)\n",
    "    tn, fp, fn, tp = matriz_logit.ravel()\n",
    "    precision_logit = tp/(tp + fp)\n",
    "    recall_logit = tp/(tp + fn)\n",
    "    f1_logit.append( 2 * (precision_logit * recall_logit) / (precision_logit + recall_logit) )\n",
    "f1_df = pd.DataFrame({'F1 Score': f1_logit})\n",
    "f1_df.sort_values(by=['F1 Score'], ascending=False)\n",
    "clase_train.roc_train[2][3807]\n",
    "resultado del f1: 0.433943\n",
    "resultado umbral: 0.184156`"
   ]
  },
  {
   "cell_type": "markdown",
   "metadata": {},
   "source": [
    "#### Predicción"
   ]
  },
  {
   "cell_type": "markdown",
   "metadata": {},
   "source": [
    "Para la predicción, con la misma clase definida se le hace el tratamiento de NA y las transformaciones a las variables."
   ]
  },
  {
   "cell_type": "code",
   "execution_count": 9,
   "metadata": {},
   "outputs": [
    {
     "name": "stdin",
     "output_type": "stream",
     "text": [
      "¿Desea transformar una variable? y/n: y\n"
     ]
    },
    {
     "name": "stdout",
     "output_type": "stream",
     "text": [
      "-------------------------------------------------------------\n"
     ]
    },
    {
     "name": "stdin",
     "output_type": "stream",
     "text": [
      "Ingrese el numero de columna que desea transformar (ej: 7): 1\n"
     ]
    },
    {
     "name": "stdout",
     "output_type": "stream",
     "text": [
      "-------------------------------------------------------------\n",
      "Las transformaciones disponibles son las siguientes:\n",
      "1: log(x)\n",
      "2: raiz(x)\n",
      "3: 1/x\n",
      "4: x**(-2)\n"
     ]
    },
    {
     "name": "stdin",
     "output_type": "stream",
     "text": [
      "Ingrese el número de la transformación: 4\n"
     ]
    },
    {
     "name": "stdout",
     "output_type": "stream",
     "text": [
      "-------------------------------------------------------------\n"
     ]
    },
    {
     "name": "stdin",
     "output_type": "stream",
     "text": [
      "¿Desea transformar otra variable? y/n: y\n",
      "Ingrese el numero de columna que desea transformar (ej: 7): 4\n"
     ]
    },
    {
     "name": "stdout",
     "output_type": "stream",
     "text": [
      "-------------------------------------------------------------\n",
      "Las transformaciones disponibles son las siguientes:\n",
      "1: log(x)\n",
      "2: raiz(x)\n",
      "3: 1/x\n",
      "4: x**(-2)\n"
     ]
    },
    {
     "name": "stdin",
     "output_type": "stream",
     "text": [
      "Ingrese el número de la transformación: 3\n"
     ]
    },
    {
     "name": "stdout",
     "output_type": "stream",
     "text": [
      "-------------------------------------------------------------\n"
     ]
    },
    {
     "name": "stdin",
     "output_type": "stream",
     "text": [
      "¿Desea transformar otra variable? y/n: y\n",
      "Ingrese el numero de columna que desea transformar (ej: 7): 5\n"
     ]
    },
    {
     "name": "stdout",
     "output_type": "stream",
     "text": [
      "-------------------------------------------------------------\n",
      "Las transformaciones disponibles son las siguientes:\n",
      "1: log(x)\n",
      "2: raiz(x)\n",
      "3: 1/x\n",
      "4: x**(-2)\n"
     ]
    },
    {
     "name": "stdin",
     "output_type": "stream",
     "text": [
      "Ingrese el número de la transformación: 1\n"
     ]
    },
    {
     "name": "stdout",
     "output_type": "stream",
     "text": [
      "-------------------------------------------------------------\n"
     ]
    },
    {
     "name": "stdin",
     "output_type": "stream",
     "text": [
      "¿Desea transformar otra variable? y/n: n\n"
     ]
    },
    {
     "name": "stdout",
     "output_type": "stream",
     "text": [
      "-------------------------------------------------------------\n"
     ]
    },
    {
     "name": "stdin",
     "output_type": "stream",
     "text": [
      "¿Desea categorizar una variable? y/n: y\n",
      "Ingrese el numero de columna que desea categorizar (ej: 3): 3\n"
     ]
    },
    {
     "name": "stdout",
     "output_type": "stream",
     "text": [
      "NumberOfTime3059DaysPastDueNotWorse\n",
      "Debido a la naturaleza de la variable el número de bins disponibles\n",
      "para que cada categoría tenga 5% de los datos son: \n"
     ]
    },
    {
     "name": "stdin",
     "output_type": "stream",
     "text": [
      "2 y 3, elija una: 3\n"
     ]
    },
    {
     "name": "stdout",
     "output_type": "stream",
     "text": [
      "Éxito en la categorización.\n",
      "-------------------------------------------------------------------\n"
     ]
    },
    {
     "name": "stdin",
     "output_type": "stream",
     "text": [
      "¿Desea categorizar otra variable? y/n: y\n",
      "Ingrese el numero de columna que desea categorizar (ej: 3): 7\n"
     ]
    },
    {
     "name": "stdout",
     "output_type": "stream",
     "text": [
      "NumberOfTimes90DaysLate\n",
      "Debido a la naturaleza de la variable el número de bins disponibles\n",
      "para que cada categoría tenga 5% de los datos son: \n"
     ]
    },
    {
     "name": "stdin",
     "output_type": "stream",
     "text": [
      "2, ingrese 2 si quiere categorizar:  2\n"
     ]
    },
    {
     "name": "stdout",
     "output_type": "stream",
     "text": [
      "Éxito en la categorización.\n",
      "-------------------------------------------------------------------\n"
     ]
    },
    {
     "name": "stdin",
     "output_type": "stream",
     "text": [
      "¿Desea categorizar otra variable? y/n: y\n",
      "Ingrese el numero de columna que desea categorizar (ej: 3): 8\n"
     ]
    },
    {
     "name": "stdout",
     "output_type": "stream",
     "text": [
      "NumberRealEstateLoansOrLines\n",
      "Debido a la naturaleza de la variable el número de bins disponibles\n",
      "para que cada categoría tenga 5% de los datos son: \n"
     ]
    },
    {
     "name": "stdin",
     "output_type": "stream",
     "text": [
      "2, 3 y 4, elija una: 4\n"
     ]
    },
    {
     "name": "stdout",
     "output_type": "stream",
     "text": [
      "Éxito en la categorización.\n",
      "-------------------------------------------------------------------\n"
     ]
    },
    {
     "name": "stdin",
     "output_type": "stream",
     "text": [
      "¿Desea categorizar otra variable? y/n: y\n",
      "Ingrese el numero de columna que desea categorizar (ej: 3): 9\n"
     ]
    },
    {
     "name": "stdout",
     "output_type": "stream",
     "text": [
      "NumberOfTime6089DaysPastDueNotWorse\n",
      "Debido a la naturaleza de la variable el número de bins disponibles\n",
      "para que cada categoría tenga 5% de los datos son: \n"
     ]
    },
    {
     "name": "stdin",
     "output_type": "stream",
     "text": [
      "2, ingrese 2 si quiere categorizar:  2\n"
     ]
    },
    {
     "name": "stdout",
     "output_type": "stream",
     "text": [
      "Éxito en la categorización.\n",
      "-------------------------------------------------------------------\n"
     ]
    },
    {
     "name": "stdin",
     "output_type": "stream",
     "text": [
      "¿Desea categorizar otra variable? y/n: y\n",
      "Ingrese el numero de columna que desea categorizar (ej: 3): 10\n"
     ]
    },
    {
     "name": "stdout",
     "output_type": "stream",
     "text": [
      "NumberOfDependents\n",
      "Debido a la naturaleza de la variable el número de bins disponibles\n",
      "para que cada categoría tenga 5% de los datos son: \n"
     ]
    },
    {
     "name": "stdin",
     "output_type": "stream",
     "text": [
      "2, 3 y 4, elija una: 4\n"
     ]
    },
    {
     "name": "stdout",
     "output_type": "stream",
     "text": [
      "Éxito en la categorización.\n",
      "-------------------------------------------------------------------\n"
     ]
    },
    {
     "name": "stdin",
     "output_type": "stream",
     "text": [
      "¿Desea categorizar otra variable? y/n: n\n"
     ]
    },
    {
     "name": "stdout",
     "output_type": "stream",
     "text": [
      "-------------------------------------------------------------\n",
      "El proceso finalizó correctamente.\n"
     ]
    }
   ],
   "source": [
    "ruta2 = '/Users/camilo/Google Drive/Universidad/Magíster en Estadística/2020-1/Minería de Datos con Python/Tareas/Tarea 2 2020/Entrega/Datos T-T/data_test.csv'\n",
    "clase_test = Clasificador(ruta_datos = ruta2, porcentaje_na = 20)\n",
    "df_test = clase_test.carga_de_datos()\n",
    "clase_test.transformacion(max_bins = 10)"
   ]
  },
  {
   "cell_type": "markdown",
   "metadata": {},
   "source": [
    "Notemos que `clase_test`se utilizó solo para el proceso de limpieza y transformación de los nuevos datos, sin embargo, utilizamos \n",
    "`clase_train`que es donde está nuestro modelo entrenado para predicir los nuevos datos."
   ]
  },
  {
   "cell_type": "code",
   "execution_count": 10,
   "metadata": {},
   "outputs": [],
   "source": [
    "diccionario_de_prediccion = clase_train.predecir(df_test)"
   ]
  },
  {
   "cell_type": "markdown",
   "metadata": {},
   "source": [
    "Aquí tenemos el retorno de diccionario pedido, este consiste en las probabilidades del modelo logístico y sus predicciones (con el mejor umbral calculado en los pasos anteriores), además de las predicciones del árbol de decisión."
   ]
  },
  {
   "cell_type": "code",
   "execution_count": 12,
   "metadata": {},
   "outputs": [
    {
     "data": {
      "text/plain": [
       "{'Probabilidades Predichas Logística': 0        0.012969\n",
       " 1        0.017694\n",
       " 2        0.038485\n",
       " 3        0.104934\n",
       " 4        0.035085\n",
       "            ...   \n",
       " 44995    0.029622\n",
       " 44996    0.046240\n",
       " 44997    0.014467\n",
       " 44998    0.032746\n",
       " 44999    0.094683\n",
       " Length: 45000, dtype: float64,\n",
       " 'Predicción Logística': 0        0\n",
       " 1        0\n",
       " 2        0\n",
       " 3        0\n",
       " 4        0\n",
       "         ..\n",
       " 44995    0\n",
       " 44996    0\n",
       " 44997    0\n",
       " 44998    0\n",
       " 44999    0\n",
       " Length: 45000, dtype: int64,\n",
       " 'Predicción Árbol': array([0, 0, 0, ..., 0, 0, 0])}"
      ]
     },
     "execution_count": 12,
     "metadata": {},
     "output_type": "execute_result"
    }
   ],
   "source": [
    "diccionario_de_prediccion"
   ]
  },
  {
   "cell_type": "markdown",
   "metadata": {},
   "source": [
    "#### Pickle"
   ]
  },
  {
   "cell_type": "markdown",
   "metadata": {},
   "source": [
    "Utilizando la librería `pickle` guardamos nuestro objeto definido a través de la clase en un archivo en la raíz de nuestro proyecto, \n",
    "luego este archivo puede ser cargado en otra sesión de Python o en otro proyecto cargandose exactamente igual como fue guardado. Cabe destacar que no estamos guardando el código de definición de la clase, eso se puede hacer con otros métodos, por ejemplo, con modulos, lo que guardamos en este caso es el ajuste por lo que es necesario correr el código de la definición de la clase para luego cargar nuestra clase train con `pickle`. En resumen nos ahorramos re-entrenar el modelo cada vez que lo necesitemos usar. "
   ]
  },
  {
   "cell_type": "code",
   "execution_count": 5,
   "metadata": {},
   "outputs": [],
   "source": [
    "import pickle"
   ]
  },
  {
   "cell_type": "markdown",
   "metadata": {},
   "source": [
    "Guardado de la Clase."
   ]
  },
  {
   "cell_type": "code",
   "execution_count": 14,
   "metadata": {},
   "outputs": [],
   "source": [
    "with open('modelo_ajustado.pickle', 'wb') as pickle_out:\n",
    "    pickle.dump(clase_train, pickle_out)"
   ]
  },
  {
   "cell_type": "markdown",
   "metadata": {},
   "source": [
    "Carga de la Clase"
   ]
  },
  {
   "cell_type": "code",
   "execution_count": 6,
   "metadata": {},
   "outputs": [],
   "source": [
    "with open('modelo_ajustado.pickle', 'rb') as pickle_in:\n",
    "    modelo_ajustado = pickle.load(pickle_in)"
   ]
  },
  {
   "cell_type": "code",
   "execution_count": 7,
   "metadata": {},
   "outputs": [
    {
     "data": {
      "text/plain": [
       "<__main__.Clasificador at 0x1a25ef3b90>"
      ]
     },
     "execution_count": 7,
     "metadata": {},
     "output_type": "execute_result"
    }
   ],
   "source": [
    "modelo_ajustado"
   ]
  },
  {
   "cell_type": "markdown",
   "metadata": {},
   "source": [
    "Probamos viendo la base con que fue ajustado el modelo."
   ]
  },
  {
   "cell_type": "code",
   "execution_count": 8,
   "metadata": {},
   "outputs": [
    {
     "data": {
      "text/html": [
       "<div>\n",
       "<style scoped>\n",
       "    .dataframe tbody tr th:only-of-type {\n",
       "        vertical-align: middle;\n",
       "    }\n",
       "\n",
       "    .dataframe tbody tr th {\n",
       "        vertical-align: top;\n",
       "    }\n",
       "\n",
       "    .dataframe thead th {\n",
       "        text-align: right;\n",
       "    }\n",
       "</style>\n",
       "<table border=\"1\" class=\"dataframe\">\n",
       "  <thead>\n",
       "    <tr style=\"text-align: right;\">\n",
       "      <th></th>\n",
       "      <th>SeriousDlqin2yrs</th>\n",
       "      <th>RevolvingUtilizationOfUnsecuredLines</th>\n",
       "      <th>age</th>\n",
       "      <th>NumberOfTime3059DaysPastDueNotWorse</th>\n",
       "      <th>DebtRatio</th>\n",
       "      <th>MonthlyIncome</th>\n",
       "      <th>NumberOfOpenCreditLinesAndLoans</th>\n",
       "      <th>NumberOfTimes90DaysLate</th>\n",
       "      <th>NumberRealEstateLoansOrLines</th>\n",
       "      <th>NumberOfTime6089DaysPastDueNotWorse</th>\n",
       "      <th>NumberOfDependents</th>\n",
       "    </tr>\n",
       "  </thead>\n",
       "  <tbody>\n",
       "    <tr>\n",
       "      <th>0</th>\n",
       "      <td>0</td>\n",
       "      <td>0.593805</td>\n",
       "      <td>63</td>\n",
       "      <td>[0,1)</td>\n",
       "      <td>0.815189</td>\n",
       "      <td>7.824446</td>\n",
       "      <td>9</td>\n",
       "      <td>[0,1)</td>\n",
       "      <td>[0,1)</td>\n",
       "      <td>[0,1)</td>\n",
       "      <td>[0,1)</td>\n",
       "    </tr>\n",
       "    <tr>\n",
       "      <th>1</th>\n",
       "      <td>0</td>\n",
       "      <td>0.733202</td>\n",
       "      <td>53</td>\n",
       "      <td>[0,1)</td>\n",
       "      <td>0.725487</td>\n",
       "      <td>8.404920</td>\n",
       "      <td>9</td>\n",
       "      <td>[0,1)</td>\n",
       "      <td>[1,2)</td>\n",
       "      <td>[0,1)</td>\n",
       "      <td>[2,3)</td>\n",
       "    </tr>\n",
       "    <tr>\n",
       "      <th>2</th>\n",
       "      <td>0</td>\n",
       "      <td>0.418090</td>\n",
       "      <td>67</td>\n",
       "      <td>[2,98]</td>\n",
       "      <td>0.523486</td>\n",
       "      <td>8.294300</td>\n",
       "      <td>16</td>\n",
       "      <td>[0,1)</td>\n",
       "      <td>[2,3)</td>\n",
       "      <td>[0,1)</td>\n",
       "      <td>[0,1)</td>\n",
       "    </tr>\n",
       "    <tr>\n",
       "      <th>3</th>\n",
       "      <td>0</td>\n",
       "      <td>0.827384</td>\n",
       "      <td>45</td>\n",
       "      <td>[0,1)</td>\n",
       "      <td>0.809328</td>\n",
       "      <td>9.066355</td>\n",
       "      <td>9</td>\n",
       "      <td>[0,1)</td>\n",
       "      <td>[2,3)</td>\n",
       "      <td>[0,1)</td>\n",
       "      <td>[3,20]</td>\n",
       "    </tr>\n",
       "    <tr>\n",
       "      <th>4</th>\n",
       "      <td>0</td>\n",
       "      <td>1.000000</td>\n",
       "      <td>31</td>\n",
       "      <td>[0,1)</td>\n",
       "      <td>0.613705</td>\n",
       "      <td>8.140316</td>\n",
       "      <td>5</td>\n",
       "      <td>[0,1)</td>\n",
       "      <td>[1,2)</td>\n",
       "      <td>[0,1)</td>\n",
       "      <td>[0,1)</td>\n",
       "    </tr>\n",
       "  </tbody>\n",
       "</table>\n",
       "</div>"
      ],
      "text/plain": [
       "   SeriousDlqin2yrs  RevolvingUtilizationOfUnsecuredLines  age  \\\n",
       "0                 0                              0.593805   63   \n",
       "1                 0                              0.733202   53   \n",
       "2                 0                              0.418090   67   \n",
       "3                 0                              0.827384   45   \n",
       "4                 0                              1.000000   31   \n",
       "\n",
       "  NumberOfTime3059DaysPastDueNotWorse  DebtRatio  MonthlyIncome  \\\n",
       "0                               [0,1)   0.815189       7.824446   \n",
       "1                               [0,1)   0.725487       8.404920   \n",
       "2                              [2,98]   0.523486       8.294300   \n",
       "3                               [0,1)   0.809328       9.066355   \n",
       "4                               [0,1)   0.613705       8.140316   \n",
       "\n",
       "   NumberOfOpenCreditLinesAndLoans NumberOfTimes90DaysLate  \\\n",
       "0                                9                   [0,1)   \n",
       "1                                9                   [0,1)   \n",
       "2                               16                   [0,1)   \n",
       "3                                9                   [0,1)   \n",
       "4                                5                   [0,1)   \n",
       "\n",
       "  NumberRealEstateLoansOrLines NumberOfTime6089DaysPastDueNotWorse  \\\n",
       "0                        [0,1)                               [0,1)   \n",
       "1                        [1,2)                               [0,1)   \n",
       "2                        [2,3)                               [0,1)   \n",
       "3                        [2,3)                               [0,1)   \n",
       "4                        [1,2)                               [0,1)   \n",
       "\n",
       "  NumberOfDependents  \n",
       "0              [0,1)  \n",
       "1              [2,3)  \n",
       "2              [0,1)  \n",
       "3             [3,20]  \n",
       "4              [0,1)  "
      ]
     },
     "execution_count": 8,
     "metadata": {},
     "output_type": "execute_result"
    }
   ],
   "source": [
    "modelo_ajustado.base_de_datos.head()"
   ]
  },
  {
   "cell_type": "markdown",
   "metadata": {},
   "source": [
    "Prueba de nuestro ajuste de la regresión logística."
   ]
  },
  {
   "cell_type": "code",
   "execution_count": 9,
   "metadata": {},
   "outputs": [
    {
     "data": {
      "text/plain": [
       "<statsmodels.discrete.discrete_model.BinaryResultsWrapper at 0x1a28ab9250>"
      ]
     },
     "execution_count": 9,
     "metadata": {},
     "output_type": "execute_result"
    }
   ],
   "source": [
    "modelo_ajustado.logistica_fit"
   ]
  },
  {
   "cell_type": "markdown",
   "metadata": {},
   "source": [
    "#### Conclusión General"
   ]
  },
  {
   "cell_type": "markdown",
   "metadata": {},
   "source": [
    "##### Proceso"
   ]
  },
  {
   "cell_type": "markdown",
   "metadata": {},
   "source": [
    "Dado como se realizó el procedimiento, este algoritmo se puede ejecutar una vez al mes sin problemas, pues gracias a la librería `pickle` el modelo queda ajustado y solo necesitamos hacer los siguientes pasos:\n",
    "\n",
    "1. Obtener Nuevos datos\n",
    "2. Tratamiento de NA (Automatizado, solo se tiene que ejecutar el método) \n",
    "3. Transformación de Variables (Automatizado en un método con preguntas simples al usuario)\n",
    "4. Predecir con el método incorporado en la clase"
   ]
  },
  {
   "cell_type": "markdown",
   "metadata": {},
   "source": [
    "##### Variables"
   ]
  },
  {
   "cell_type": "markdown",
   "metadata": {},
   "source": [
    "De las variables categóricas las más importantes basandose en el Information Value son:\n",
    "\n",
    "1. `NumberOfTime3059DaysPastDueNotWorse`\n",
    "2. `NumberOfTimes90DaysLate`\n",
    "\n",
    "De las variables numéricas las más importantes basandose en la Devianza (calculada con `statsmodels`):\n",
    "\n",
    "1. `RevolvingUtilizationOfUnsecuredLines`\n",
    "2. `Age`\n",
    "\n",
    "Notemos que utilizar la devianza es válido pues todas las variables numéricas tienen 1 grado de libertad por lo que son comparables. \n",
    "Como comentario llama la atención que no ingrese al modelo `MonthlyIncome` por la relación directa con la economía personal o familiar de los individuos, por otro lado las variables categóricas señaladas tienen relación directa con el pago de deudas por lo que no sorprende su relevancia. En cuanto a las variables numéricas, tiene sentido que `RevolvingUtilizationOfUnsecuredLines` sea tan relevante porque es el porcentaje de cupo utilizado, esta puede indicar comportamientos financieros de cada individuo al igual que su edad, uno podría pensar que la gente jóven es más irresponsable financieramente. "
   ]
  },
  {
   "cell_type": "markdown",
   "metadata": {},
   "source": [
    "##### Ajuste "
   ]
  },
  {
   "cell_type": "markdown",
   "metadata": {},
   "source": [
    "* AUC de la regresión logística:  0.8552 \n",
    " * El AUC indica el área debajo de la Curva ROC, en general sobre 0.8 se considera bueno.  \n",
    "<br/>\n",
    "\n",
    "\n",
    "* Accuracy de la regresión es:  0.9163\n",
    " * Porcentaje de predicciones correctas, muy bueno. \n",
    "<br/>\n",
    "\n",
    "\n",
    "* La precision de la regresión es:  0.3962\n",
    " * Aquí medimos que porcentajes de nuestros positivos que son realmente positivos, este indicador es bajo por la muestra desbalanceada.\n",
    "<br/>\n",
    "\n",
    "\n",
    "* El recall de la regresión es:  0.4796\n",
    " * Porcentaje de positivos correctos entre todos los verdaderos positivos, mejora comparando con la precisión pero aun así no es tan buena.\n",
    "<br/>\n",
    "\n",
    "\n",
    "* El accuracy del árbol es:  0.9433\n",
    " * Porcentaje de predicciones correctas, muy bueno.   \n",
    "<br/>\n",
    "\n",
    "\n",
    "* La precision del árbol es:  0.7240\n",
    " * Este indicador es considerablemente mayor que la regresión logística, muy bueno considerando el desbalance.  \n",
    "<br/>\n",
    "\n",
    "\n",
    "* El recall del árbol es:  0.2479\n",
    " * Este indicador es menor en este clasificador, por lo que el puntaje f1 no es muy distinto en ambos modelos.  \n"
   ]
  },
  {
   "cell_type": "markdown",
   "metadata": {},
   "source": [
    "En ambos modelos se logró obtener un muy buen accuracy, especialmente en el árbol de decisión, sin embargo el porcentaje de la precición y el recall son menores en comparación. Esto no quiere decir que el modelo no sirva para nada, sin embargo hay tener presente los porcentajes en que falla y en que acierta para los costos y beneficios. Por otro lado nuestros datos estan desbalanceados y no aplicamos ninguna medida remedial como undersampling, oversampling o combinarlos con bootstrap por lo que nuestros indicadores podrían mejorar sustancialemente utilizando esas técnicas. Las últimas consideraciones son, el arbol se puede ajustar con más hojas y tiene un ajuste muy superior entre más profundidad pero no se traduce en los datos de testeo, en cambio la regresión logística obtiene resultados casi idénticos entre el entrenamiento y el testeo."
   ]
  }
 ],
 "metadata": {
  "kernelspec": {
   "display_name": "Python 3",
   "language": "python",
   "name": "python3"
  },
  "language_info": {
   "codemirror_mode": {
    "name": "ipython",
    "version": 3
   },
   "file_extension": ".py",
   "mimetype": "text/x-python",
   "name": "python",
   "nbconvert_exporter": "python",
   "pygments_lexer": "ipython3",
   "version": "3.7.6"
  }
 },
 "nbformat": 4,
 "nbformat_minor": 4
}
