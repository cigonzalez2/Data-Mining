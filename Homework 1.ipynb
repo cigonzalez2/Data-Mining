{
 "cells": [
  {
   "cell_type": "markdown",
   "metadata": {},
   "source": [
    "# Tarea 1 : Seminario de Estadística (EPG 3341) \n",
    "### Camilo González Rojas"
   ]
  },
  {
   "cell_type": "markdown",
   "metadata": {},
   "source": [
    "## Carga de Librerías y Datos "
   ]
  },
  {
   "cell_type": "markdown",
   "metadata": {},
   "source": [
    "Cargamos las tres librerías permitidas para la tarea además se la librería `seaborn` para la pregunta 1.d)"
   ]
  },
  {
   "cell_type": "code",
   "execution_count": 1,
   "metadata": {},
   "outputs": [],
   "source": [
    "import numpy as np\n",
    "import pandas as pd\n",
    "import matplotlib.pyplot as plt\n",
    "import seaborn as sns"
   ]
  },
  {
   "cell_type": "markdown",
   "metadata": {},
   "source": [
    "Cargamos todas las bases de datos que será utilizadas en la tarea. "
   ]
  },
  {
   "cell_type": "code",
   "execution_count": 2,
   "metadata": {},
   "outputs": [],
   "source": [
    "df_features = pd.read_csv('Features.csv')\n",
    "df_sales = pd.read_csv('sales.csv')\n",
    "df_stores = pd.read_csv('stores.csv')\n",
    "df_spiral = pd.read_table('spiral.txt',  names = ['eje_x', 'eje_y', 'cluster'])"
   ]
  },
  {
   "cell_type": "markdown",
   "metadata": {},
   "source": [
    "Vemos si es que la data tiene valores `NaN`"
   ]
  },
  {
   "cell_type": "code",
   "execution_count": 3,
   "metadata": {},
   "outputs": [],
   "source": [
    "null_features = df_features.isnull().mean() * 100\n",
    "null_sales = df_sales.isnull().mean() * 100\n",
    "null_stores = df_stores.isnull().mean() * 100\n",
    "null_spiral = df_spiral.isnull().mean() * 100"
   ]
  },
  {
   "cell_type": "code",
   "execution_count": 4,
   "metadata": {},
   "outputs": [
    {
     "data": {
      "text/plain": [
       "Store            0.000000\n",
       "Date             0.000000\n",
       "Temperature      0.000000\n",
       "Fuel_Price       0.000000\n",
       "MarkDown1       50.769231\n",
       "MarkDown2       64.334554\n",
       "MarkDown3       55.885226\n",
       "MarkDown4       57.704518\n",
       "MarkDown5       50.549451\n",
       "CPI              7.142857\n",
       "Unemployment     7.142857\n",
       "IsHoliday        0.000000\n",
       "dtype: float64"
      ]
     },
     "execution_count": 4,
     "metadata": {},
     "output_type": "execute_result"
    }
   ],
   "source": [
    "null_features "
   ]
  },
  {
   "cell_type": "markdown",
   "metadata": {},
   "source": [
    "Vemos que tenemos valores no disponibles, de las variables que tienen `NaN` solo nos interesa $\\texttt{CPI}$ y $\\texttt{Unemployment}$, para esta tarea simplemente eliminaremos estos valores. "
   ]
  },
  {
   "cell_type": "code",
   "execution_count": 5,
   "metadata": {},
   "outputs": [
    {
     "data": {
      "text/plain": [
       "Store            0.000000\n",
       "Date             0.000000\n",
       "Temperature      0.000000\n",
       "Fuel_Price       0.000000\n",
       "MarkDown1       54.648258\n",
       "MarkDown2       67.902696\n",
       "MarkDown3       59.447732\n",
       "MarkDown4       60.894149\n",
       "MarkDown5       54.437870\n",
       "CPI              0.000000\n",
       "Unemployment     0.000000\n",
       "IsHoliday        0.000000\n",
       "dtype: float64"
      ]
     },
     "execution_count": 5,
     "metadata": {},
     "output_type": "execute_result"
    }
   ],
   "source": [
    "df_features = df_features[df_features['CPI'].notna()]\n",
    "df_features = df_features[df_features['Unemployment'].notna()]\n",
    "null_features = df_features.isnull().mean() * 100\n",
    "null_features "
   ]
  },
  {
   "cell_type": "code",
   "execution_count": 6,
   "metadata": {},
   "outputs": [
    {
     "data": {
      "text/plain": [
       "Store           0.0\n",
       "Dept            0.0\n",
       "Date            0.0\n",
       "Weekly_Sales    0.0\n",
       "IsHoliday       0.0\n",
       "dtype: float64"
      ]
     },
     "execution_count": 6,
     "metadata": {},
     "output_type": "execute_result"
    }
   ],
   "source": [
    "null_sales"
   ]
  },
  {
   "cell_type": "code",
   "execution_count": 7,
   "metadata": {},
   "outputs": [
    {
     "data": {
      "text/plain": [
       "Store    0.0\n",
       "Type     0.0\n",
       "Size     0.0\n",
       "dtype: float64"
      ]
     },
     "execution_count": 7,
     "metadata": {},
     "output_type": "execute_result"
    }
   ],
   "source": [
    "null_stores"
   ]
  },
  {
   "cell_type": "code",
   "execution_count": 8,
   "metadata": {},
   "outputs": [
    {
     "data": {
      "text/plain": [
       "eje_x      0.0\n",
       "eje_y      0.0\n",
       "cluster    0.0\n",
       "dtype: float64"
      ]
     },
     "execution_count": 8,
     "metadata": {},
     "output_type": "execute_result"
    }
   ],
   "source": [
    "null_spiral"
   ]
  },
  {
   "cell_type": "markdown",
   "metadata": {},
   "source": [
    "Ahora que tenemos las bases sin `NaN` en las variables de interes, empezamos las preguntas."
   ]
  },
  {
   "cell_type": "markdown",
   "metadata": {},
   "source": [
    "## Pregunta 1.a)"
   ]
  },
  {
   "cell_type": "markdown",
   "metadata": {},
   "source": [
    "Transformamos todas las unidades que se encuentran en sistema imperial a sistema métrico."
   ]
  },
  {
   "cell_type": "code",
   "execution_count": 9,
   "metadata": {},
   "outputs": [],
   "source": [
    "df_features.Temperature = df_features.Temperature.transform(       \n",
    "    lambda x: (x-32)*(5/9)                                         # Transformación de Fahrenheit a Celcius\n",
    ")                                \n",
    "\n",
    "df_features.Fuel_Price = df_features.Fuel_Price.transform(\n",
    "    lambda x: x/4.55                                               # Transformación de Galones a Litros\n",
    ")          \n",
    "\n",
    "df_stores.Size = df_stores.Size.transform(\n",
    "    lambda x: x*0.3048                                             # Transformación de Pies a Metros\n",
    ")                         "
   ]
  },
  {
   "cell_type": "markdown",
   "metadata": {},
   "source": [
    "## Pregunta 1.b)"
   ]
  },
  {
   "cell_type": "markdown",
   "metadata": {},
   "source": [
    "Comenzamos mostrando un data frame que contega las ventas totales y promedio por tienda y por semana."
   ]
  },
  {
   "cell_type": "code",
   "execution_count": 10,
   "metadata": {},
   "outputs": [
    {
     "data": {
      "text/html": [
       "<div>\n",
       "<style scoped>\n",
       "    .dataframe tbody tr th:only-of-type {\n",
       "        vertical-align: middle;\n",
       "    }\n",
       "\n",
       "    .dataframe tbody tr th {\n",
       "        vertical-align: top;\n",
       "    }\n",
       "\n",
       "    .dataframe thead tr th {\n",
       "        text-align: left;\n",
       "    }\n",
       "\n",
       "    .dataframe thead tr:last-of-type th {\n",
       "        text-align: right;\n",
       "    }\n",
       "</style>\n",
       "<table border=\"1\" class=\"dataframe\">\n",
       "  <thead>\n",
       "    <tr>\n",
       "      <th></th>\n",
       "      <th></th>\n",
       "      <th colspan=\"2\" halign=\"left\">Weekly_Sales</th>\n",
       "    </tr>\n",
       "    <tr>\n",
       "      <th></th>\n",
       "      <th></th>\n",
       "      <th>sum</th>\n",
       "      <th>mean</th>\n",
       "    </tr>\n",
       "    <tr>\n",
       "      <th>Store</th>\n",
       "      <th>Date</th>\n",
       "      <th></th>\n",
       "      <th></th>\n",
       "    </tr>\n",
       "  </thead>\n",
       "  <tbody>\n",
       "    <tr>\n",
       "      <th rowspan=\"5\" valign=\"top\">1</th>\n",
       "      <th>01/04/2011</th>\n",
       "      <td>1495064.75</td>\n",
       "      <td>21057.250000</td>\n",
       "    </tr>\n",
       "    <tr>\n",
       "      <th>01/06/2012</th>\n",
       "      <td>1624477.58</td>\n",
       "      <td>22879.965915</td>\n",
       "    </tr>\n",
       "    <tr>\n",
       "      <th>01/07/2011</th>\n",
       "      <td>1488538.09</td>\n",
       "      <td>21573.015797</td>\n",
       "    </tr>\n",
       "    <tr>\n",
       "      <th>01/10/2010</th>\n",
       "      <td>1453329.50</td>\n",
       "      <td>19908.623288</td>\n",
       "    </tr>\n",
       "    <tr>\n",
       "      <th>02/03/2012</th>\n",
       "      <td>1688420.76</td>\n",
       "      <td>23450.288333</td>\n",
       "    </tr>\n",
       "    <tr>\n",
       "      <th>...</th>\n",
       "      <th>...</th>\n",
       "      <td>...</td>\n",
       "      <td>...</td>\n",
       "    </tr>\n",
       "    <tr>\n",
       "      <th rowspan=\"5\" valign=\"top\">45</th>\n",
       "      <th>30/07/2010</th>\n",
       "      <td>716859.27</td>\n",
       "      <td>10542.048088</td>\n",
       "    </tr>\n",
       "    <tr>\n",
       "      <th>30/09/2011</th>\n",
       "      <td>698986.34</td>\n",
       "      <td>10279.210882</td>\n",
       "    </tr>\n",
       "    <tr>\n",
       "      <th>30/12/2011</th>\n",
       "      <td>869403.63</td>\n",
       "      <td>12785.347500</td>\n",
       "    </tr>\n",
       "    <tr>\n",
       "      <th>31/08/2012</th>\n",
       "      <td>734297.87</td>\n",
       "      <td>10798.498088</td>\n",
       "    </tr>\n",
       "    <tr>\n",
       "      <th>31/12/2010</th>\n",
       "      <td>679156.20</td>\n",
       "      <td>10136.659701</td>\n",
       "    </tr>\n",
       "  </tbody>\n",
       "</table>\n",
       "<p>6435 rows × 2 columns</p>\n",
       "</div>"
      ],
      "text/plain": [
       "                 Weekly_Sales              \n",
       "                          sum          mean\n",
       "Store Date                                 \n",
       "1     01/04/2011   1495064.75  21057.250000\n",
       "      01/06/2012   1624477.58  22879.965915\n",
       "      01/07/2011   1488538.09  21573.015797\n",
       "      01/10/2010   1453329.50  19908.623288\n",
       "      02/03/2012   1688420.76  23450.288333\n",
       "...                       ...           ...\n",
       "45    30/07/2010    716859.27  10542.048088\n",
       "      30/09/2011    698986.34  10279.210882\n",
       "      30/12/2011    869403.63  12785.347500\n",
       "      31/08/2012    734297.87  10798.498088\n",
       "      31/12/2010    679156.20  10136.659701\n",
       "\n",
       "[6435 rows x 2 columns]"
      ]
     },
     "execution_count": 10,
     "metadata": {},
     "output_type": "execute_result"
    }
   ],
   "source": [
    "prom_store_week = df_sales.groupby(['Store','Date']).agg({'Weekly_Sales': [sum, np.mean]}) \n",
    "prom_store_week"
   ]
  },
  {
   "cell_type": "markdown",
   "metadata": {},
   "source": [
    "Utilizaremos un `groupby` para crear un data frame llamado $\\texttt{holiday}$ que contiene las tiendas mostrando el promedio de los dias feriados y normales."
   ]
  },
  {
   "cell_type": "code",
   "execution_count": 11,
   "metadata": {},
   "outputs": [
    {
     "data": {
      "text/html": [
       "<div>\n",
       "<style scoped>\n",
       "    .dataframe tbody tr th:only-of-type {\n",
       "        vertical-align: middle;\n",
       "    }\n",
       "\n",
       "    .dataframe tbody tr th {\n",
       "        vertical-align: top;\n",
       "    }\n",
       "\n",
       "    .dataframe thead tr th {\n",
       "        text-align: left;\n",
       "    }\n",
       "\n",
       "    .dataframe thead tr:last-of-type th {\n",
       "        text-align: right;\n",
       "    }\n",
       "</style>\n",
       "<table border=\"1\" class=\"dataframe\">\n",
       "  <thead>\n",
       "    <tr>\n",
       "      <th></th>\n",
       "      <th></th>\n",
       "      <th>Weekly_Sales</th>\n",
       "    </tr>\n",
       "    <tr>\n",
       "      <th></th>\n",
       "      <th></th>\n",
       "      <th>mean</th>\n",
       "    </tr>\n",
       "    <tr>\n",
       "      <th>Store</th>\n",
       "      <th>IsHoliday</th>\n",
       "      <th></th>\n",
       "    </tr>\n",
       "  </thead>\n",
       "  <tbody>\n",
       "    <tr>\n",
       "      <th rowspan=\"2\" valign=\"top\">1</th>\n",
       "      <th>False</th>\n",
       "      <td>21609.634733</td>\n",
       "    </tr>\n",
       "    <tr>\n",
       "      <th>True</th>\n",
       "      <td>23039.386667</td>\n",
       "    </tr>\n",
       "    <tr>\n",
       "      <th rowspan=\"2\" valign=\"top\">2</th>\n",
       "      <th>False</th>\n",
       "      <td>26753.864227</td>\n",
       "    </tr>\n",
       "    <tr>\n",
       "      <th>True</th>\n",
       "      <td>28798.710526</td>\n",
       "    </tr>\n",
       "    <tr>\n",
       "      <th rowspan=\"2\" valign=\"top\">3</th>\n",
       "      <th>False</th>\n",
       "      <td>6332.098604</td>\n",
       "    </tr>\n",
       "    <tr>\n",
       "      <th>True</th>\n",
       "      <td>6916.446288</td>\n",
       "    </tr>\n",
       "    <tr>\n",
       "      <th rowspan=\"2\" valign=\"top\">4</th>\n",
       "      <th>False</th>\n",
       "      <td>29032.260570</td>\n",
       "    </tr>\n",
       "    <tr>\n",
       "      <th>True</th>\n",
       "      <td>30854.231417</td>\n",
       "    </tr>\n",
       "  </tbody>\n",
       "</table>\n",
       "</div>"
      ],
      "text/plain": [
       "                 Weekly_Sales\n",
       "                         mean\n",
       "Store IsHoliday              \n",
       "1     False      21609.634733\n",
       "      True       23039.386667\n",
       "2     False      26753.864227\n",
       "      True       28798.710526\n",
       "3     False       6332.098604\n",
       "      True        6916.446288\n",
       "4     False      29032.260570\n",
       "      True       30854.231417"
      ]
     },
     "execution_count": 11,
     "metadata": {},
     "output_type": "execute_result"
    }
   ],
   "source": [
    "holiday = df_sales.groupby(['Store', 'IsHoliday']).agg({'Weekly_Sales': [np.mean]})\n",
    "holiday.head(8)"
   ]
  },
  {
   "cell_type": "markdown",
   "metadata": {},
   "source": [
    "Ahora filtraremos el data frame holiday por feriado y día normal para luego crear un data frame llamado $\\texttt{tabla}$, este contiene \n",
    "las columnas de $\\texttt{Store}$, $\\texttt{Prom_Normal}$ y $\\texttt{Prom_Holiday}$."
   ]
  },
  {
   "cell_type": "code",
   "execution_count": 12,
   "metadata": {},
   "outputs": [],
   "source": [
    "holiday = holiday.reset_index()\n",
    "holiday0 = holiday[holiday['IsHoliday'] == 0]\n",
    "holiday1 = holiday[holiday['IsHoliday'] == 1]\n",
    "\n",
    "n = int((len(holiday.Store)/2)+1)\n",
    "tabla = pd.DataFrame({\n",
    "    'Store' : range(1,n),\n",
    "    'Prom_Normal' : list(holiday0['Weekly_Sales']['mean']),\n",
    "    'Prom_Holiday' : list(holiday1['Weekly_Sales']['mean'])\n",
    "})"
   ]
  },
  {
   "cell_type": "markdown",
   "metadata": {},
   "source": [
    "Finalmente usamos `assign` para crear una nueva columna $\\texttt{Razón}$. Notemos que, $$ \\texttt{Razón} = \\frac{\\texttt{Promedio  Feriado}}{\\texttt{Promedio  Normal}}.$$"
   ]
  },
  {
   "cell_type": "code",
   "execution_count": 13,
   "metadata": {},
   "outputs": [],
   "source": [
    "tabla = tabla.assign(Razon = lambda x: (x.Prom_Holiday / x.Prom_Normal))"
   ]
  },
  {
   "cell_type": "markdown",
   "metadata": {},
   "source": [
    "Continuamos ordenamos tabla en orden ascendiente por la columna $\\texttt{Razon}$, mostramos las diez primeras tiendas según el enunciado."
   ]
  },
  {
   "cell_type": "code",
   "execution_count": 14,
   "metadata": {},
   "outputs": [
    {
     "data": {
      "text/html": [
       "<div>\n",
       "<style scoped>\n",
       "    .dataframe tbody tr th:only-of-type {\n",
       "        vertical-align: middle;\n",
       "    }\n",
       "\n",
       "    .dataframe tbody tr th {\n",
       "        vertical-align: top;\n",
       "    }\n",
       "\n",
       "    .dataframe thead th {\n",
       "        text-align: right;\n",
       "    }\n",
       "</style>\n",
       "<table border=\"1\" class=\"dataframe\">\n",
       "  <thead>\n",
       "    <tr style=\"text-align: right;\">\n",
       "      <th></th>\n",
       "      <th>Store</th>\n",
       "      <th>Prom_Normal</th>\n",
       "      <th>Prom_Holiday</th>\n",
       "      <th>Razon</th>\n",
       "    </tr>\n",
       "  </thead>\n",
       "  <tbody>\n",
       "    <tr>\n",
       "      <th>35</th>\n",
       "      <td>36</td>\n",
       "      <td>8597.374014</td>\n",
       "      <td>8412.829062</td>\n",
       "      <td>0.978535</td>\n",
       "    </tr>\n",
       "    <tr>\n",
       "      <th>43</th>\n",
       "      <td>44</td>\n",
       "      <td>6046.886331</td>\n",
       "      <td>5932.577174</td>\n",
       "      <td>0.981096</td>\n",
       "    </tr>\n",
       "    <tr>\n",
       "      <th>36</th>\n",
       "      <td>37</td>\n",
       "      <td>10306.767529</td>\n",
       "      <td>10170.842685</td>\n",
       "      <td>0.986812</td>\n",
       "    </tr>\n",
       "    <tr>\n",
       "      <th>37</th>\n",
       "      <td>38</td>\n",
       "      <td>7493.363637</td>\n",
       "      <td>7480.585843</td>\n",
       "      <td>0.998295</td>\n",
       "    </tr>\n",
       "    <tr>\n",
       "      <th>29</th>\n",
       "      <td>30</td>\n",
       "      <td>8763.636535</td>\n",
       "      <td>8772.275241</td>\n",
       "      <td>1.000986</td>\n",
       "    </tr>\n",
       "    <tr>\n",
       "      <th>42</th>\n",
       "      <td>43</td>\n",
       "      <td>13410.729834</td>\n",
       "      <td>13473.438093</td>\n",
       "      <td>1.004676</td>\n",
       "    </tr>\n",
       "    <tr>\n",
       "      <th>32</th>\n",
       "      <td>33</td>\n",
       "      <td>5723.280870</td>\n",
       "      <td>5796.788499</td>\n",
       "      <td>1.012844</td>\n",
       "    </tr>\n",
       "    <tr>\n",
       "      <th>41</th>\n",
       "      <td>42</td>\n",
       "      <td>11425.515827</td>\n",
       "      <td>11680.949753</td>\n",
       "      <td>1.022356</td>\n",
       "    </tr>\n",
       "    <tr>\n",
       "      <th>31</th>\n",
       "      <td>32</td>\n",
       "      <td>16318.545633</td>\n",
       "      <td>16789.178285</td>\n",
       "      <td>1.028840</td>\n",
       "    </tr>\n",
       "    <tr>\n",
       "      <th>39</th>\n",
       "      <td>40</td>\n",
       "      <td>13730.522084</td>\n",
       "      <td>14197.663028</td>\n",
       "      <td>1.034022</td>\n",
       "    </tr>\n",
       "  </tbody>\n",
       "</table>\n",
       "</div>"
      ],
      "text/plain": [
       "    Store   Prom_Normal  Prom_Holiday     Razon\n",
       "35     36   8597.374014   8412.829062  0.978535\n",
       "43     44   6046.886331   5932.577174  0.981096\n",
       "36     37  10306.767529  10170.842685  0.986812\n",
       "37     38   7493.363637   7480.585843  0.998295\n",
       "29     30   8763.636535   8772.275241  1.000986\n",
       "42     43  13410.729834  13473.438093  1.004676\n",
       "32     33   5723.280870   5796.788499  1.012844\n",
       "41     42  11425.515827  11680.949753  1.022356\n",
       "31     32  16318.545633  16789.178285  1.028840\n",
       "39     40  13730.522084  14197.663028  1.034022"
      ]
     },
     "execution_count": 14,
     "metadata": {},
     "output_type": "execute_result"
    }
   ],
   "source": [
    "tabla = tabla.sort_values(['Razon'])\n",
    "tabla.head(10)"
   ]
  },
  {
   "cell_type": "markdown",
   "metadata": {},
   "source": [
    "Finalmente solo cuatro tiendas venden menos en días feriados, las 10 primeras tiendas con la razón más baja son:"
   ]
  },
  {
   "cell_type": "code",
   "execution_count": 15,
   "metadata": {},
   "outputs": [
    {
     "data": {
      "text/plain": [
       "[36, 44, 37, 38, 30, 43, 33, 42, 32, 40]"
      ]
     },
     "execution_count": 15,
     "metadata": {},
     "output_type": "execute_result"
    }
   ],
   "source": [
    "lista_tiendas = list(tabla['Store'])\n",
    "lista_tiendas[0:10]"
   ]
  },
  {
   "cell_type": "markdown",
   "metadata": {},
   "source": [
    "## Pregunta 1.c)"
   ]
  },
  {
   "cell_type": "markdown",
   "metadata": {},
   "source": [
    "Hacemos un `merge` de la base $\\texttt{Sales}$ y $\\texttt{Stores}$ para tener las ventas por tipo."
   ]
  },
  {
   "cell_type": "code",
   "execution_count": 16,
   "metadata": {},
   "outputs": [],
   "source": [
    "sale_type = df_sales.merge(\n",
    "    df_stores, \n",
    "    how = 'outer', \n",
    "    left_on = ['Store'],\n",
    "    right_on = ['Store'])\n",
    "\n",
    "sale_type = sale_type .groupby(['Type', 'Date']).agg({'Weekly_Sales': [np.mean]}).reset_index()"
   ]
  },
  {
   "cell_type": "markdown",
   "metadata": {},
   "source": [
    "Vemos todos los tipos de tienda."
   ]
  },
  {
   "cell_type": "code",
   "execution_count": 17,
   "metadata": {},
   "outputs": [
    {
     "data": {
      "text/plain": [
       "array(['A', 'B', 'C'], dtype='<U1')"
      ]
     },
     "execution_count": 17,
     "metadata": {},
     "output_type": "execute_result"
    }
   ],
   "source": [
    "np.unique(list(sale_type.Type))"
   ]
  },
  {
   "cell_type": "markdown",
   "metadata": {},
   "source": [
    "Aquí convertimos el formato de la fecha y además obtenemos un data frame por tienda."
   ]
  },
  {
   "cell_type": "code",
   "execution_count": 18,
   "metadata": {},
   "outputs": [],
   "source": [
    "sale_type.Date = pd.to_datetime(sale_type.Date)\n",
    "sale_A = sale_type[sale_type['Type'] == 'A'].sort_values('Date')\n",
    "sale_B = sale_type[sale_type['Type'] == 'B'].sort_values('Date')\n",
    "sale_C = sale_type[sale_type['Type'] == 'C'].sort_values('Date')"
   ]
  },
  {
   "cell_type": "markdown",
   "metadata": {},
   "source": [
    "Definimos los colores a usar (RGB)"
   ]
  },
  {
   "cell_type": "code",
   "execution_count": 19,
   "metadata": {},
   "outputs": [],
   "source": [
    "sky = (0.5294117647058824, 0.807843137254902, 0.93, 1)\n",
    "aqua = (0.4980392156862745, 1.0, 0.8313725490196079, 1)\n",
    "org = (1, 0.8, 0, 1)"
   ]
  },
  {
   "cell_type": "markdown",
   "metadata": {},
   "source": [
    "Finalmente vemos todos los gráficos y luego en la misma ventana."
   ]
  },
  {
   "cell_type": "code",
   "execution_count": 20,
   "metadata": {},
   "outputs": [
    {
     "data": {
      "image/png": "[encoded data removed]",
      "text/plain": [
       "<Figure size 1080x936 with 3 Axes>"
      ]
     },
     "metadata": {
      "needs_background": "light"
     },
     "output_type": "display_data"
    }
   ],
   "source": [
    "plt.figure(figsize = (15, 13))\n",
    "plt.subplot(221)\n",
    "plt.plot(sale_A.Date, sale_A.Weekly_Sales, color = sky, linewidth = 3)\n",
    "plt.title('Gráfico de Tiendas Tipo A')\n",
    "plt.xlabel('Semana')\n",
    "plt.ylabel('Promedio de Ventas')\n",
    "plt.setp(plt.xticks()[1], rotation=25, ha='right')\n",
    "\n",
    "plt.subplot(222)\n",
    "plt.plot(sale_B.Date, sale_B.Weekly_Sales, color = aqua, linewidth = 3)\n",
    "plt.title('Gráfico de Tiendas Tipo B')\n",
    "plt.xlabel('Semana')\n",
    "plt.ylabel('Promedio de Ventas')\n",
    "plt.setp(plt.xticks()[1], rotation=25, ha='right')\n",
    "\n",
    "plt.subplot(223)\n",
    "plt.plot(sale_C.Date, sale_C.Weekly_Sales, color = org, linewidth = 3)\n",
    "plt.title('Gráfico de Tiendas Tipo C')\n",
    "plt.xlabel('Semana')\n",
    "plt.ylabel('Promedio de Ventas')\n",
    "plt.setp(plt.xticks()[1], rotation=25, ha='right')\n",
    "\n",
    "plt.show()"
   ]
  },
  {
   "cell_type": "code",
   "execution_count": 21,
   "metadata": {},
   "outputs": [
    {
     "data": {
      "image/png": "[encoded data removed]",
      "text/plain": [
       "<Figure size 1080x720 with 1 Axes>"
      ]
     },
     "metadata": {
      "needs_background": "light"
     },
     "output_type": "display_data"
    }
   ],
   "source": [
    "plt.figure(figsize = (15, 10))\n",
    "\n",
    "plt.plot(sale_A.Date, sale_A.Weekly_Sales, color = sky, linewidth = 3, label = 'Tipo A')\n",
    "plt.plot(sale_B.Date, sale_B.Weekly_Sales, color = aqua, linewidth = 3, label = 'Tipo B')\n",
    "plt.plot(sale_C.Date, sale_C.Weekly_Sales, color = org, linewidth = 3, label = 'Tipo C')\n",
    "plt.title('Gráfico de Tiendas Tipo A, B y C')\n",
    "plt.xlabel('Semana')\n",
    "plt.ylabel('Promedio de Ventas')\n",
    "plt.setp(plt.xticks()[1], rotation=25, ha='right')\n",
    "axes = plt.gca()\n",
    "axes.set_ylim([8000,33000])\n",
    "plt.legend(loc=\"upper left\")\n",
    "plt.show()"
   ]
  },
  {
   "cell_type": "markdown",
   "metadata": {},
   "source": [
    "## Pregunta 1.d)"
   ]
  },
  {
   "cell_type": "markdown",
   "metadata": {},
   "source": [
    "Nuevamente hacemos un `merge`, esta vez con la base *features* y *sales*."
   ]
  },
  {
   "cell_type": "code",
   "execution_count": 22,
   "metadata": {},
   "outputs": [],
   "source": [
    "df_sales_features = df_sales.merge(\n",
    "    df_features, \n",
    "    how = 'inner', \n",
    "    left_on = ['Store', 'Date', 'IsHoliday'],\n",
    "    right_on = ['Store', 'Date', 'IsHoliday'])"
   ]
  },
  {
   "cell_type": "markdown",
   "metadata": {},
   "source": [
    "Ahora hacemos un `groupby` para tener las ventas totales."
   ]
  },
  {
   "cell_type": "code",
   "execution_count": 23,
   "metadata": {},
   "outputs": [],
   "source": [
    "df_sales_features = df_sales_features.groupby(['Store', 'Date'])\n",
    "df_sales_features = df_sales_features.agg({'Weekly_Sales': [sum], 'Temperature': [np.mean], 'CPI': [np.mean], 'Unemployment': [np.mean]})\n",
    "df_sales_features = df_sales_features.reset_index()"
   ]
  },
  {
   "cell_type": "markdown",
   "metadata": {},
   "source": [
    "Hacemos una lista que contiene la correlación de cada tienda con el índice de precio del consumidor (CPI), Temperatura, Desempleo y precio de los combustibles.\n",
    "Luego la convertimos en un data frame."
   ]
  },
  {
   "cell_type": "code",
   "execution_count": 24,
   "metadata": {},
   "outputs": [],
   "source": [
    "lista = []\n",
    "for i in range(1, n):\n",
    "    aux = df_sales_features[df_sales_features['Store'] == i].corr().iloc[[1], [2, 3, 4]]\n",
    "    lista.append(aux)\n",
    "    \n",
    "df_corr = pd.concat(lista).reset_index()\n",
    "\n",
    "df_corr = pd.DataFrame({\n",
    "    'Tienda': range(1,n),\n",
    "    'Desempleo': df_corr['Unemployment']['mean'],\n",
    "    'Temperatura': df_corr['Temperature']['mean'],\n",
    "    'CPI': df_corr['CPI']['mean']\n",
    "})\n",
    "\n",
    "df_corr = df_corr.set_index('Tienda')"
   ]
  },
  {
   "cell_type": "markdown",
   "metadata": {},
   "source": [
    "Mostramos las primeras 10 tiendas."
   ]
  },
  {
   "cell_type": "code",
   "execution_count": 25,
   "metadata": {},
   "outputs": [
    {
     "data": {
      "text/html": [
       "<div>\n",
       "<style scoped>\n",
       "    .dataframe tbody tr th:only-of-type {\n",
       "        vertical-align: middle;\n",
       "    }\n",
       "\n",
       "    .dataframe tbody tr th {\n",
       "        vertical-align: top;\n",
       "    }\n",
       "\n",
       "    .dataframe thead th {\n",
       "        text-align: right;\n",
       "    }\n",
       "</style>\n",
       "<table border=\"1\" class=\"dataframe\">\n",
       "  <thead>\n",
       "    <tr style=\"text-align: right;\">\n",
       "      <th></th>\n",
       "      <th>Desempleo</th>\n",
       "      <th>Temperatura</th>\n",
       "      <th>CPI</th>\n",
       "    </tr>\n",
       "    <tr>\n",
       "      <th>Tienda</th>\n",
       "      <th></th>\n",
       "      <th></th>\n",
       "      <th></th>\n",
       "    </tr>\n",
       "  </thead>\n",
       "  <tbody>\n",
       "    <tr>\n",
       "      <th>1</th>\n",
       "      <td>-0.097955</td>\n",
       "      <td>-0.222701</td>\n",
       "      <td>0.225408</td>\n",
       "    </tr>\n",
       "    <tr>\n",
       "      <th>2</th>\n",
       "      <td>0.066325</td>\n",
       "      <td>-0.297673</td>\n",
       "      <td>-0.062431</td>\n",
       "    </tr>\n",
       "    <tr>\n",
       "      <th>3</th>\n",
       "      <td>-0.230413</td>\n",
       "      <td>-0.377524</td>\n",
       "      <td>0.317250</td>\n",
       "    </tr>\n",
       "    <tr>\n",
       "      <th>4</th>\n",
       "      <td>-0.337015</td>\n",
       "      <td>-0.225583</td>\n",
       "      <td>0.351157</td>\n",
       "    </tr>\n",
       "    <tr>\n",
       "      <th>5</th>\n",
       "      <td>-0.207043</td>\n",
       "      <td>-0.175517</td>\n",
       "      <td>0.308261</td>\n",
       "    </tr>\n",
       "    <tr>\n",
       "      <th>6</th>\n",
       "      <td>0.044251</td>\n",
       "      <td>-0.084863</td>\n",
       "      <td>-0.011357</td>\n",
       "    </tr>\n",
       "    <tr>\n",
       "      <th>7</th>\n",
       "      <td>-0.165382</td>\n",
       "      <td>0.015077</td>\n",
       "      <td>0.289044</td>\n",
       "    </tr>\n",
       "    <tr>\n",
       "      <th>8</th>\n",
       "      <td>-0.052580</td>\n",
       "      <td>-0.312324</td>\n",
       "      <td>0.120255</td>\n",
       "    </tr>\n",
       "    <tr>\n",
       "      <th>9</th>\n",
       "      <td>-0.191534</td>\n",
       "      <td>-0.208343</td>\n",
       "      <td>0.294805</td>\n",
       "    </tr>\n",
       "    <tr>\n",
       "      <th>10</th>\n",
       "      <td>0.131908</td>\n",
       "      <td>-0.432569</td>\n",
       "      <td>-0.115374</td>\n",
       "    </tr>\n",
       "  </tbody>\n",
       "</table>\n",
       "</div>"
      ],
      "text/plain": [
       "        Desempleo  Temperatura       CPI\n",
       "Tienda                                  \n",
       "1       -0.097955    -0.222701  0.225408\n",
       "2        0.066325    -0.297673 -0.062431\n",
       "3       -0.230413    -0.377524  0.317250\n",
       "4       -0.337015    -0.225583  0.351157\n",
       "5       -0.207043    -0.175517  0.308261\n",
       "6        0.044251    -0.084863 -0.011357\n",
       "7       -0.165382     0.015077  0.289044\n",
       "8       -0.052580    -0.312324  0.120255\n",
       "9       -0.191534    -0.208343  0.294805\n",
       "10       0.131908    -0.432569 -0.115374"
      ]
     },
     "execution_count": 25,
     "metadata": {},
     "output_type": "execute_result"
    }
   ],
   "source": [
    "df_corr.head(10)"
   ]
  },
  {
   "cell_type": "markdown",
   "metadata": {},
   "source": [
    "Aquí usaremos la librería `seaborn` cargada al comienzo, mostramos un mapa de calor. "
   ]
  },
  {
   "cell_type": "code",
   "execution_count": 26,
   "metadata": {},
   "outputs": [
    {
     "data": {
      "text/plain": [
       "[Text(105.0, 0.5, ''),\n",
       " Text(0.5, 105.0, 'Tienda según un Código'),\n",
       " Text(0.5, 1, 'Gráfico de Correlaciones')]"
      ]
     },
     "execution_count": 26,
     "metadata": {},
     "output_type": "execute_result"
    },
    {
     "data": {
      "image/png": "[encoded data removed]",
      "text/plain": [
       "<Figure size 1008x1008 with 2 Axes>"
      ]
     },
     "metadata": {
      "needs_background": "light"
     },
     "output_type": "display_data"
    }
   ],
   "source": [
    "heatmap1_data = df_corr.T\n",
    "plt.figure(figsize = (14, 14))\n",
    "sns.heatmap(heatmap1_data, cmap = \"RdBu\").set(xlabel='Tienda según un Código', ylabel='', title = 'Gráfico de Correlaciones')"
   ]
  },
  {
   "cell_type": "markdown",
   "metadata": {},
   "source": [
    "## Pregunta 1.e)"
   ]
  },
  {
   "cell_type": "markdown",
   "metadata": {},
   "source": [
    "A mi parecer el enunciado es un poco ambiguo, lo que harémos es cortar las últimas doce semanas de la base, con la base resultante harémos un pronóstico con media móvil de ventana 12 con las últimas doce semanas de esa nueva base. Finalmente se mostrará nuestro pronóstico y los valores reales de las últimas 12 semanas de la base original. Consideramos que algunas observaciones cortan antes las semanas y algunas después, consideremos simplemente las últimas doce, es decir algunas predicen semanas más a futuro que otras."
   ]
  },
  {
   "cell_type": "code",
   "execution_count": 27,
   "metadata": {},
   "outputs": [],
   "source": [
    "df_sales_forecast = df_sales.groupby(['Store', 'Dept', 'Date']).agg({'Weekly_Sales' : [sum]}).reset_index()\n",
    "df_sales_forecast = pd.DataFrame({ \n",
    "    'Store': df_sales_forecast.Store,\n",
    "    'Dept': df_sales_forecast.Dept,\n",
    "    'Date': df_sales_forecast.Date,\n",
    "    'Weekly_Sales': df_sales_forecast.Weekly_Sales['sum']\n",
    "})\n",
    "df_sales_forecast.Date = pd.to_datetime(df_sales_forecast.Date)"
   ]
  },
  {
   "cell_type": "markdown",
   "metadata": {},
   "source": [
    "Para hacer esta pregunta tenemos que saber que el código de tienda va de 1 a 45 pero los departamentos no son un rango seguido, llamaremos a la lista de valores de los departamentos como `list_dept`."
   ]
  },
  {
   "cell_type": "code",
   "execution_count": 28,
   "metadata": {},
   "outputs": [],
   "source": [
    "list_dept = np.unique(list(df_sales_forecast.Dept))"
   ]
  },
  {
   "cell_type": "markdown",
   "metadata": {},
   "source": [
    "Veamos la lista de departamentos."
   ]
  },
  {
   "cell_type": "code",
   "execution_count": 29,
   "metadata": {},
   "outputs": [
    {
     "data": {
      "text/plain": [
       "array([ 1,  2,  3,  4,  5,  6,  7,  8,  9, 10, 11, 12, 13, 14, 16, 17, 18,\n",
       "       19, 20, 21, 22, 23, 24, 25, 26, 27, 28, 29, 30, 31, 32, 33, 34, 35,\n",
       "       36, 37, 38, 39, 40, 41, 42, 43, 44, 45, 46, 47, 48, 49, 50, 51, 52,\n",
       "       54, 55, 56, 58, 59, 60, 65, 67, 71, 72, 74, 77, 78, 79, 80, 81, 82,\n",
       "       83, 85, 87, 90, 91, 92, 93, 94, 95, 96, 97, 98, 99])"
      ]
     },
     "execution_count": 29,
     "metadata": {},
     "output_type": "execute_result"
    }
   ],
   "source": [
    "list_dept"
   ]
  },
  {
   "cell_type": "markdown",
   "metadata": {},
   "source": [
    "Aquí hacemos una lista donde en la primera posición contiene un identificador $i,j$ donde $i$ es el número del código de tienda y el $j$ el número de departamento. En la segunda posición estan los valores reales y en la tercera nuestro pronóstico. \n",
    "(Nota: Se demora un poco por los `for` pero lo hace, se espera en las próximas tareas mejorar la eficiencia)"
   ]
  },
  {
   "cell_type": "code",
   "execution_count": 30,
   "metadata": {},
   "outputs": [],
   "source": [
    "tienda = []\n",
    "for i in range(1,46):\n",
    "    for j in list_dept:\n",
    "        forecast = []\n",
    "        aux = df_sales_forecast[df_sales_forecast['Store'] == i]\n",
    "        aux = aux[aux['Dept'] == j].iloc[:, [2,3]]\n",
    "        aux = aux.sort_values('Date')\n",
    "        test = aux[-12:]\n",
    "        aux = aux[-24:-12]\n",
    "        aux1 = aux.Weekly_Sales\n",
    "        for k in range(1,13):\n",
    "            aux2 = aux1.rolling(12).mean()[-1:]\n",
    "            aux1 = pd.concat([aux1, aux2])\n",
    "        forecast = aux1[-12:]\n",
    "        identificador = [[i,j], test, forecast]\n",
    "        tienda.append(identificador)\n",
    "        "
   ]
  },
  {
   "cell_type": "markdown",
   "metadata": {},
   "source": [
    "A continuación veremos un ejemplo de la tienda 1 y el departamento 8."
   ]
  },
  {
   "cell_type": "code",
   "execution_count": 31,
   "metadata": {},
   "outputs": [
    {
     "data": {
      "text/plain": [
       "[1, 8]"
      ]
     },
     "execution_count": 31,
     "metadata": {},
     "output_type": "execute_result"
    }
   ],
   "source": [
    "tienda[7][0]  # Identificador"
   ]
  },
  {
   "cell_type": "code",
   "execution_count": 32,
   "metadata": {},
   "outputs": [
    {
     "data": {
      "text/html": [
       "<div>\n",
       "<style scoped>\n",
       "    .dataframe tbody tr th:only-of-type {\n",
       "        vertical-align: middle;\n",
       "    }\n",
       "\n",
       "    .dataframe tbody tr th {\n",
       "        vertical-align: top;\n",
       "    }\n",
       "\n",
       "    .dataframe thead th {\n",
       "        text-align: right;\n",
       "    }\n",
       "</style>\n",
       "<table border=\"1\" class=\"dataframe\">\n",
       "  <thead>\n",
       "    <tr style=\"text-align: right;\">\n",
       "      <th></th>\n",
       "      <th>Date</th>\n",
       "      <th>Weekly_Sales</th>\n",
       "    </tr>\n",
       "  </thead>\n",
       "  <tbody>\n",
       "    <tr>\n",
       "      <th>1111</th>\n",
       "      <td>2012-08-24</td>\n",
       "      <td>33855.28</td>\n",
       "    </tr>\n",
       "    <tr>\n",
       "      <th>1142</th>\n",
       "      <td>2012-08-31</td>\n",
       "      <td>37666.92</td>\n",
       "    </tr>\n",
       "    <tr>\n",
       "      <th>1038</th>\n",
       "      <td>2012-09-03</td>\n",
       "      <td>36553.82</td>\n",
       "    </tr>\n",
       "    <tr>\n",
       "      <th>1065</th>\n",
       "      <td>2012-09-14</td>\n",
       "      <td>37346.83</td>\n",
       "    </tr>\n",
       "    <tr>\n",
       "      <th>1098</th>\n",
       "      <td>2012-09-21</td>\n",
       "      <td>36404.63</td>\n",
       "    </tr>\n",
       "    <tr>\n",
       "      <th>1131</th>\n",
       "      <td>2012-09-28</td>\n",
       "      <td>37254.84</td>\n",
       "    </tr>\n",
       "    <tr>\n",
       "      <th>1043</th>\n",
       "      <td>2012-10-02</td>\n",
       "      <td>38317.89</td>\n",
       "    </tr>\n",
       "    <tr>\n",
       "      <th>1045</th>\n",
       "      <td>2012-10-08</td>\n",
       "      <td>37269.92</td>\n",
       "    </tr>\n",
       "    <tr>\n",
       "      <th>1089</th>\n",
       "      <td>2012-10-19</td>\n",
       "      <td>38668.75</td>\n",
       "    </tr>\n",
       "    <tr>\n",
       "      <th>1122</th>\n",
       "      <td>2012-10-26</td>\n",
       "      <td>39255.35</td>\n",
       "    </tr>\n",
       "    <tr>\n",
       "      <th>1050</th>\n",
       "      <td>2012-11-05</td>\n",
       "      <td>37702.53</td>\n",
       "    </tr>\n",
       "    <tr>\n",
       "      <th>1056</th>\n",
       "      <td>2012-12-10</td>\n",
       "      <td>37248.47</td>\n",
       "    </tr>\n",
       "  </tbody>\n",
       "</table>\n",
       "</div>"
      ],
      "text/plain": [
       "           Date  Weekly_Sales\n",
       "1111 2012-08-24      33855.28\n",
       "1142 2012-08-31      37666.92\n",
       "1038 2012-09-03      36553.82\n",
       "1065 2012-09-14      37346.83\n",
       "1098 2012-09-21      36404.63\n",
       "1131 2012-09-28      37254.84\n",
       "1043 2012-10-02      38317.89\n",
       "1045 2012-10-08      37269.92\n",
       "1089 2012-10-19      38668.75\n",
       "1122 2012-10-26      39255.35\n",
       "1050 2012-11-05      37702.53\n",
       "1056 2012-12-10      37248.47"
      ]
     },
     "execution_count": 32,
     "metadata": {},
     "output_type": "execute_result"
    }
   ],
   "source": [
    "tienda[7][1] # Test"
   ]
  },
  {
   "cell_type": "code",
   "execution_count": 33,
   "metadata": {},
   "outputs": [
    {
     "data": {
      "text/plain": [
       "1078    38320.845833\n",
       "1078    38447.832986\n",
       "1078    38158.689068\n",
       "1078    37878.190657\n",
       "1078    37854.393212\n",
       "1078    37867.769313\n",
       "1078    37886.130089\n",
       "1078    37821.123430\n",
       "1078    37962.049549\n",
       "1078    37975.777845\n",
       "1078    38058.600999\n",
       "1078    37877.131915\n",
       "Name: Weekly_Sales, dtype: float64"
      ]
     },
     "execution_count": 33,
     "metadata": {},
     "output_type": "execute_result"
    }
   ],
   "source": [
    "tienda[7][2]  # Pronostico"
   ]
  },
  {
   "cell_type": "markdown",
   "metadata": {},
   "source": [
    "## Pregunta 1.f)"
   ]
  },
  {
   "cell_type": "markdown",
   "metadata": {},
   "source": [
    "Hacemo el calculo del *MAPE* y lo agregamos a la lista de la pregunta anterior. Si tenemos ventas 0 en alguna semana nos dará infinito, por esta tarea se eliminará simplemente esos casos. "
   ]
  },
  {
   "cell_type": "code",
   "execution_count": 34,
   "metadata": {},
   "outputs": [],
   "source": [
    "largo = len(tienda)\n",
    "for i in range(0,largo):\n",
    "    y = np.array(tienda[i][1].Weekly_Sales)\n",
    "    y_gorro = np.array(tienda[i][2])\n",
    "    if (len(y) == 12 and all(y) > 0 and len(y_gorro) == 12):\n",
    "        MAPE = (1/12) * np.mean(np.abs((y - y_gorro)/y))\n",
    "    else: MAPE = 0   \n",
    "    tienda[i].append(MAPE) "
   ]
  },
  {
   "cell_type": "code",
   "execution_count": 35,
   "metadata": {},
   "outputs": [],
   "source": [
    "lista_MAPE = []\n",
    "len_tienda = len(tienda)\n",
    "for i in range(0, len_tienda):\n",
    "    aux1 = tienda[i][0]\n",
    "    aux2 = tienda[i][3]\n",
    "    aux3 = [aux1, aux2]\n",
    "    lista_MAPE.append(aux3)\n",
    "df_MAPE = pd.DataFrame(lista_MAPE, columns = ['Idenificador', 'MAPE'])\n",
    "df_MAPE = df_MAPE.replace([np.inf, -np.inf], 0)"
   ]
  },
  {
   "cell_type": "markdown",
   "metadata": {},
   "source": [
    "Mostramos las tiendas-departamentos con MAPE más bajo, es decir, los que tienen mejor ajuste."
   ]
  },
  {
   "cell_type": "code",
   "execution_count": 36,
   "metadata": {},
   "outputs": [
    {
     "data": {
      "text/html": [
       "<div>\n",
       "<style scoped>\n",
       "    .dataframe tbody tr th:only-of-type {\n",
       "        vertical-align: middle;\n",
       "    }\n",
       "\n",
       "    .dataframe tbody tr th {\n",
       "        vertical-align: top;\n",
       "    }\n",
       "\n",
       "    .dataframe thead th {\n",
       "        text-align: right;\n",
       "    }\n",
       "</style>\n",
       "<table border=\"1\" class=\"dataframe\">\n",
       "  <thead>\n",
       "    <tr style=\"text-align: right;\">\n",
       "      <th></th>\n",
       "      <th>Idenificador</th>\n",
       "      <th>MAPE</th>\n",
       "    </tr>\n",
       "  </thead>\n",
       "  <tbody>\n",
       "    <tr>\n",
       "      <th>2425</th>\n",
       "      <td>[30, 95]</td>\n",
       "      <td>0.001473</td>\n",
       "    </tr>\n",
       "    <tr>\n",
       "      <th>250</th>\n",
       "      <td>[4, 8]</td>\n",
       "      <td>0.001639</td>\n",
       "    </tr>\n",
       "    <tr>\n",
       "      <th>3166</th>\n",
       "      <td>[40, 8]</td>\n",
       "      <td>0.001748</td>\n",
       "    </tr>\n",
       "    <tr>\n",
       "      <th>574</th>\n",
       "      <td>[8, 8]</td>\n",
       "      <td>0.001750</td>\n",
       "    </tr>\n",
       "    <tr>\n",
       "      <th>3068</th>\n",
       "      <td>[38, 90]</td>\n",
       "      <td>0.001803</td>\n",
       "    </tr>\n",
       "    <tr>\n",
       "      <th>1465</th>\n",
       "      <td>[19, 8]</td>\n",
       "      <td>0.001849</td>\n",
       "    </tr>\n",
       "    <tr>\n",
       "      <th>736</th>\n",
       "      <td>[10, 8]</td>\n",
       "      <td>0.001875</td>\n",
       "    </tr>\n",
       "    <tr>\n",
       "      <th>2988</th>\n",
       "      <td>[37, 91]</td>\n",
       "      <td>0.001985</td>\n",
       "    </tr>\n",
       "    <tr>\n",
       "      <th>395</th>\n",
       "      <td>[5, 90]</td>\n",
       "      <td>0.002032</td>\n",
       "    </tr>\n",
       "    <tr>\n",
       "      <th>93</th>\n",
       "      <td>[2, 13]</td>\n",
       "      <td>0.002112</td>\n",
       "    </tr>\n",
       "  </tbody>\n",
       "</table>\n",
       "</div>"
      ],
      "text/plain": [
       "     Idenificador      MAPE\n",
       "2425     [30, 95]  0.001473\n",
       "250        [4, 8]  0.001639\n",
       "3166      [40, 8]  0.001748\n",
       "574        [8, 8]  0.001750\n",
       "3068     [38, 90]  0.001803\n",
       "1465      [19, 8]  0.001849\n",
       "736       [10, 8]  0.001875\n",
       "2988     [37, 91]  0.001985\n",
       "395       [5, 90]  0.002032\n",
       "93        [2, 13]  0.002112"
      ]
     },
     "execution_count": 36,
     "metadata": {},
     "output_type": "execute_result"
    }
   ],
   "source": [
    "df_MAPE = df_MAPE[df_MAPE['MAPE'] > 0]\n",
    "df_MAPE.sort_values('MAPE', ascending = True)[0:10]"
   ]
  },
  {
   "cell_type": "markdown",
   "metadata": {},
   "source": [
    "Mostramos las tiendas-departamentos con MAPE más alto."
   ]
  },
  {
   "cell_type": "code",
   "execution_count": 37,
   "metadata": {},
   "outputs": [
    {
     "data": {
      "text/html": [
       "<div>\n",
       "<style scoped>\n",
       "    .dataframe tbody tr th:only-of-type {\n",
       "        vertical-align: middle;\n",
       "    }\n",
       "\n",
       "    .dataframe tbody tr th {\n",
       "        vertical-align: top;\n",
       "    }\n",
       "\n",
       "    .dataframe thead th {\n",
       "        text-align: right;\n",
       "    }\n",
       "</style>\n",
       "<table border=\"1\" class=\"dataframe\">\n",
       "  <thead>\n",
       "    <tr style=\"text-align: right;\">\n",
       "      <th></th>\n",
       "      <th>Idenificador</th>\n",
       "      <th>MAPE</th>\n",
       "    </tr>\n",
       "  </thead>\n",
       "  <tbody>\n",
       "    <tr>\n",
       "      <th>988</th>\n",
       "      <td>[13, 18]</td>\n",
       "      <td>572.769181</td>\n",
       "    </tr>\n",
       "    <tr>\n",
       "      <th>80</th>\n",
       "      <td>[1, 99]</td>\n",
       "      <td>525.218794</td>\n",
       "    </tr>\n",
       "    <tr>\n",
       "      <th>2753</th>\n",
       "      <td>[34, 99]</td>\n",
       "      <td>470.003899</td>\n",
       "    </tr>\n",
       "    <tr>\n",
       "      <th>647</th>\n",
       "      <td>[8, 99]</td>\n",
       "      <td>438.680904</td>\n",
       "    </tr>\n",
       "    <tr>\n",
       "      <th>1555</th>\n",
       "      <td>[20, 18]</td>\n",
       "      <td>412.631135</td>\n",
       "    </tr>\n",
       "    <tr>\n",
       "      <th>1474</th>\n",
       "      <td>[19, 18]</td>\n",
       "      <td>379.562440</td>\n",
       "    </tr>\n",
       "    <tr>\n",
       "      <th>1943</th>\n",
       "      <td>[24, 99]</td>\n",
       "      <td>358.754633</td>\n",
       "    </tr>\n",
       "    <tr>\n",
       "      <th>97</th>\n",
       "      <td>[2, 18]</td>\n",
       "      <td>312.042856</td>\n",
       "    </tr>\n",
       "    <tr>\n",
       "      <th>2527</th>\n",
       "      <td>[32, 18]</td>\n",
       "      <td>291.504676</td>\n",
       "    </tr>\n",
       "    <tr>\n",
       "      <th>340</th>\n",
       "      <td>[5, 18]</td>\n",
       "      <td>223.530233</td>\n",
       "    </tr>\n",
       "  </tbody>\n",
       "</table>\n",
       "</div>"
      ],
      "text/plain": [
       "     Idenificador        MAPE\n",
       "988      [13, 18]  572.769181\n",
       "80        [1, 99]  525.218794\n",
       "2753     [34, 99]  470.003899\n",
       "647       [8, 99]  438.680904\n",
       "1555     [20, 18]  412.631135\n",
       "1474     [19, 18]  379.562440\n",
       "1943     [24, 99]  358.754633\n",
       "97        [2, 18]  312.042856\n",
       "2527     [32, 18]  291.504676\n",
       "340       [5, 18]  223.530233"
      ]
     },
     "execution_count": 37,
     "metadata": {},
     "output_type": "execute_result"
    }
   ],
   "source": [
    "df_MAPE.sort_values('MAPE', ascending = False)[0:10]"
   ]
  },
  {
   "cell_type": "markdown",
   "metadata": {},
   "source": [
    "## Pregunta 1.g)"
   ]
  },
  {
   "cell_type": "markdown",
   "metadata": {},
   "source": [
    "En la pregunta anterior vimos que la tienda 30 con el departamento 95 es el que tiene el mejor MAPE, veamos el gráfico."
   ]
  },
  {
   "cell_type": "code",
   "execution_count": 38,
   "metadata": {},
   "outputs": [
    {
     "data": {
      "text/plain": [
       "Text(0, 0.5, 'Ventas')"
      ]
     },
     "execution_count": 38,
     "metadata": {},
     "output_type": "execute_result"
    },
    {
     "data": {
      "image/png": "[encoded data removed]",
      "text/plain": [
       "<Figure size 432x288 with 1 Axes>"
      ]
     },
     "metadata": {
      "needs_background": "light"
     },
     "output_type": "display_data"
    }
   ],
   "source": [
    "reales = tienda[2425][1]\n",
    "pronostico = tienda[2425][2]\n",
    "plt.setp(plt.xticks()[1], rotation=35, ha='right')\n",
    "plt.plot(reales.Date, reales.Weekly_Sales)\n",
    "plt.plot(reales.Date, pronostico)\n",
    "plt.title('Gráfico de Ventas Tienda-Departamento')\n",
    "plt.xlabel('Semana')\n",
    "plt.ylabel('Ventas')"
   ]
  },
  {
   "cell_type": "markdown",
   "metadata": {},
   "source": [
    "## Pregunta 2"
   ]
  },
  {
   "cell_type": "markdown",
   "metadata": {},
   "source": [
    "Harémos desde la **a)** hasta la **d)** en una sola definición de `clase`."
   ]
  },
  {
   "cell_type": "markdown",
   "metadata": {},
   "source": [
    "Creamos la clase pedida. Commo nota, hice el algoritmo fit varias veces de distintas formas, el que se presenta es el que menos tiempo demora pero tiene más lineas de código. "
   ]
  },
  {
   "cell_type": "code",
   "execution_count": 39,
   "metadata": {},
   "outputs": [],
   "source": [
    "# PREGUNTA 1.A)\n",
    "\n",
    "class ClusterDatos:                  \n",
    "    def __init__(self, epsilon, N):\n",
    "        self.epsilon = epsilon\n",
    "        self.N = N\n",
    "        \n",
    "# PREGUNTA 1.B)        \n",
    "        \n",
    "    def fit(self, dataframe):       \n",
    "        n = len(dataframe)\n",
    "        datos = []\n",
    "        for i in range(0, n):\n",
    "            pto_x = np.array(dataframe.iloc[[i],[0]])[0][0]    #Transformación de data en lista de pares ordenados\n",
    "            pto_y = np.array(dataframe.iloc[[i],[1]])[0][0]\n",
    "            datos.append(np.array([pto_x, pto_y]))\n",
    "        \n",
    "        def cercanos(pos):\n",
    "            distancias = []\n",
    "            for i in range(0, n): \n",
    "                dist = np.sqrt(sum((datos[pos]-datos[i])**2))  # Función que obtiene todos los puntos cercanos a distancia menor que epsilon\n",
    "                if (dist < self.epsilon or dist == 0):\n",
    "                    distancias.append(i)\n",
    "                else: None\n",
    "            return distancias\n",
    "        \n",
    "        def clus(listita):\n",
    "            lista_cercanos = []\n",
    "            for i in listita:\n",
    "                lista_cercanos = np.union1d(cercanos(i), lista_cercanos)  #Función que de forma recursiva utiliza la función cercanos. \n",
    "                inter =  np.intersect1d(cercanos(i), lista_cercanos)\n",
    "                for j in inter:\n",
    "                    j= int(j)\n",
    "                    if j not in listita:\n",
    "                        listita.append(j)\n",
    "                \n",
    "            return lista_cercanos\n",
    "        \n",
    "        cluster = []\n",
    "        outliers = []\n",
    "        lista_random = list(range(0,n))\n",
    "        for z in range(0,n):\n",
    "            i = np.random.choice(lista_random)           # Elección de puntos aleatorios\n",
    "            lista_random.remove(i)\n",
    "            if (len(cluster) != 0):\n",
    "                aux = []\n",
    "                for j in range(0,len(cluster)):        # Se crean los cluster y se filtran con los que tienen N puntos.\n",
    "                    if i in cluster[j]:\n",
    "                        aux.append(1)\n",
    "                    else: aux.append(0) \n",
    "                if (sum(aux) == 0 ):\n",
    "                    aux10 = np.ndarray.tolist(clus(cercanos(i)))\n",
    "                    if (len(aux10) > self.N):\n",
    "                        cluster.append(aux10)\n",
    "                    else: outliers.append(i)\n",
    "                        \n",
    "                else: None\n",
    "            \n",
    "            else: \n",
    "                aux20 = np.ndarray.tolist(clus(cercanos(i)))\n",
    "                if (len(aux20) > self.N):\n",
    "                        cluster.append(aux20)\n",
    "                else: outliers.append(i)\n",
    "            \n",
    "        return  [cluster,outliers]\n",
    "        \n",
    "        \n",
    "        \n",
    "# PREGUNTA 1.C)\n",
    "\n",
    "    def plot(self, dataframe):             \n",
    "        lista = self.fit(dataframe)\n",
    "        respuesta = input('¿Quiere guardar el gráfico?  responde y/n')\n",
    "        for i in range(0,len(lista[0])): \n",
    "            plt.plot(dataframe.iloc[lista[0][i]].eje_x, dataframe.iloc[lista[0][i]].eje_y, marker='o', linestyle='')\n",
    "            \n",
    "        plt.plot(dataframe.iloc[lista[1]].eje_x, dataframe.iloc[lista[1]].eje_y, marker='o', linestyle='')  \n",
    "        if (respuesta == 'y'):\n",
    "            ruta = input('ingrese la ruta (la ruta tiene que terminar en \\ si es Window y / si es macOS):')\n",
    "            nombre = input('ingrese el nombre del archivo:')\n",
    "            plt.savefig(ruta + nombre + '.png')\n",
    "        else: None\n",
    "        \n",
    "        \n",
    "# PREGUNTA 1.D)\n",
    "\n",
    "    def predict(self, old_data, new_data):     # Pregunta 1.d)\n",
    "        data_vieja = self.fit(old_data)\n",
    "        data_nueva = []         \n",
    "        for i in range(0, len(new_data)):\n",
    "            pto_x_n = np.array(new_data.iloc[[i],[0]])[0][0]\n",
    "            pto_y_n = np.array(new_data.iloc[[i],[1]])[0][0]\n",
    "            data_nueva.append(np.array([pto_x_n, pto_y_n]))\n",
    "        correspondencia = []\n",
    "        pos_outlier = list(range(0,len(new_data)))\n",
    "                             \n",
    "        for i in range(0, len(data_vieja[0])):\n",
    "            for j in range(0, len(data_vieja[0][i])):\n",
    "                indice = data_vieja[0][i][j]\n",
    "                pto_x_v = np.array(old_data.iloc[[indice],[0]])[0][0]\n",
    "                pto_y_v = np.array(old_data.iloc[[indice],[1]])[0][0]\n",
    "                pto_v = np.array([pto_x_v, pto_y_v])\n",
    "                for k in pos_outlier:\n",
    "                    dist_n= np.sqrt(sum(( pto_v - data_nueva[k])**2))\n",
    "                    if (dist_n < self.epsilon):\n",
    "                        correspondencia.append(['Posición nueva obs. :', k, 'Cluster:', i+1])\n",
    "                        pos_outlier.remove(k)\n",
    "        \n",
    "        no_clust = ['Posición de observación Outlier:', pos_outlier]\n",
    "        retorno = [correspondencia, no_clust]\n",
    "        return retorno            "
   ]
  },
  {
   "cell_type": "markdown",
   "metadata": {},
   "source": [
    "## Pregunta 2.e)"
   ]
  },
  {
   "cell_type": "markdown",
   "metadata": {},
   "source": [
    "Ahora para mostrar la clase usaremos la base entregada. Partimos viendo el método fit. Este entrega una lista donde el primer elemento contiene una lista de las posiciones de cada cluster, la seguda posición contiene las observaciones outliers. Básicamente el fit trabaja por puntos encuentrando todos los puntos cercanos a distancia $\\epsilon$ y los cercanos de los cercanos para hacer un cluster, se considera cluster si tiene al menos $N$ puntos, luego toma otro punto que no este en el primer cluster y repite el procso. Probaberomos con $ \\epsilon = 0,1,3$ y $ N = 0,2,3$. Por temas de espacio y procesamiento mostraremos la cantidad de cluster y cantidad de outliers solamente."
   ]
  },
  {
   "cell_type": "code",
   "execution_count": 48,
   "metadata": {},
   "outputs": [
    {
     "name": "stdout",
     "output_type": "stream",
     "text": [
      "Número de Clusters: 312 Outliers: 0\n"
     ]
    }
   ],
   "source": [
    "clase_prueba = ClusterDatos(0,0)\n",
    "test = clase_prueba.fit(df_spiral)\n",
    "print('Número de Clusters:', len(test[0]), 'Outliers:', len(test[1]))"
   ]
  },
  {
   "cell_type": "markdown",
   "metadata": {},
   "source": [
    "Aquí como el radio es 0, pero $N$ también tenemos que cada punto es un cluster."
   ]
  },
  {
   "cell_type": "code",
   "execution_count": 40,
   "metadata": {},
   "outputs": [
    {
     "name": "stdout",
     "output_type": "stream",
     "text": [
      "Número de Clusters: 0 Outliers: 312\n"
     ]
    }
   ],
   "source": [
    "clase_prueba = ClusterDatos(0,1)\n",
    "test = clase_prueba.fit(df_spiral)\n",
    "print('Número de Clusters:', len(test[0]), 'Outliers:', len(test[1]))"
   ]
  },
  {
   "cell_type": "markdown",
   "metadata": {},
   "source": [
    "Como el radio es cero era de esperar que todo fuera outlier. Veamos con radio 1."
   ]
  },
  {
   "cell_type": "code",
   "execution_count": 41,
   "metadata": {},
   "outputs": [
    {
     "name": "stdout",
     "output_type": "stream",
     "text": [
      "Número de Clusters: 6 Outliers: 8\n"
     ]
    }
   ],
   "source": [
    "clase_prueba = ClusterDatos(1,2)\n",
    "test = clase_prueba.fit(df_spiral)\n",
    "print('Número de Clusters:', len(test[0]), 'Outliers:', len(test[1]))"
   ]
  },
  {
   "cell_type": "markdown",
   "metadata": {},
   "source": [
    "Para probar el predict usaremos una base definida por nosotros que \n",
    "contenga puntos que corresponden a un cluster y otros puntos lejanos que quedarían outliers (fila 3,4,5)."
   ]
  },
  {
   "cell_type": "code",
   "execution_count": 42,
   "metadata": {},
   "outputs": [
    {
     "name": "stdout",
     "output_type": "stream",
     "text": [
      "Número de Clusters: 3 Outliers: 0\n"
     ]
    }
   ],
   "source": [
    "clase_prueba = ClusterDatos(3,3)\n",
    "test = clase_prueba.fit(df_spiral)\n",
    "print('Número de Clusters:', len(test[0]), 'Outliers:', len(test[1]))"
   ]
  },
  {
   "cell_type": "markdown",
   "metadata": {},
   "source": [
    "Verifiquemos el método plot que gráfica la data con sus respectivos cluster. Básicamente hace un plot utilizando el método fit y pregunta si se desea guardar. Probamos distintos valores."
   ]
  },
  {
   "cell_type": "code",
   "execution_count": 49,
   "metadata": {},
   "outputs": [
    {
     "name": "stdin",
     "output_type": "stream",
     "text": [
      "¿Quiere guardar el gráfico?  responde y/n n\n"
     ]
    },
    {
     "data": {
      "image/png": "[encoded data removed]",
      "text/plain": [
       "<Figure size 432x288 with 1 Axes>"
      ]
     },
     "metadata": {
      "needs_background": "light"
     },
     "output_type": "display_data"
    }
   ],
   "source": [
    "clase_prueba = ClusterDatos(0,0)\n",
    "clase_prueba.plot(df_spiral)"
   ]
  },
  {
   "cell_type": "code",
   "execution_count": 43,
   "metadata": {},
   "outputs": [
    {
     "name": "stdin",
     "output_type": "stream",
     "text": [
      "¿Quiere guardar el gráfico?  responde y/n m\n"
     ]
    },
    {
     "data": {
      "image/png": "[encoded data removed]",
      "text/plain": [
       "<Figure size 432x288 with 1 Axes>"
      ]
     },
     "metadata": {
      "needs_background": "light"
     },
     "output_type": "display_data"
    }
   ],
   "source": [
    "clase_prueba = ClusterDatos(0,3)\n",
    "clase_prueba.plot(df_spiral)"
   ]
  },
  {
   "cell_type": "code",
   "execution_count": 44,
   "metadata": {},
   "outputs": [
    {
     "name": "stdin",
     "output_type": "stream",
     "text": [
      "¿Quiere guardar el gráfico?  responde y/n mh\n"
     ]
    },
    {
     "data": {
      "image/png": "[encoded data removed]",
      "text/plain": [
       "<Figure size 432x288 with 1 Axes>"
      ]
     },
     "metadata": {
      "needs_background": "light"
     },
     "output_type": "display_data"
    }
   ],
   "source": [
    "clase_prueba = ClusterDatos(1,2)\n",
    "clase_prueba.plot(df_spiral) "
   ]
  },
  {
   "cell_type": "code",
   "execution_count": 45,
   "metadata": {},
   "outputs": [
    {
     "name": "stdin",
     "output_type": "stream",
     "text": [
      "¿Quiere guardar el gráfico?  responde y/n m\n"
     ]
    },
    {
     "data": {
      "image/png": "[encoded data removed]",
      "text/plain": [
       "<Figure size 432x288 with 1 Axes>"
      ]
     },
     "metadata": {
      "needs_background": "light"
     },
     "output_type": "display_data"
    }
   ],
   "source": [
    "clase_prueba = ClusterDatos(3,3)\n",
    "clase_prueba.plot(df_spiral)"
   ]
  },
  {
   "cell_type": "markdown",
   "metadata": {},
   "source": [
    "Para el predict definiremos una data donde algunos puntos son demasiado grandes, por lo que siempre quedará outlier. Los demás puntos son copiados de `df_spriral`"
   ]
  },
  {
   "cell_type": "code",
   "execution_count": 46,
   "metadata": {},
   "outputs": [],
   "source": [
    "nueva_data = pd.DataFrame({'col 1' : [31.95, 31.15, 30.45, 213213, 213213, 3212321, 15.65, 15.65], \n",
    "                      'col 2' : [7.95, 7.30, 6.65, 21321, 12321321, 8765, 14.60, 14.50]})"
   ]
  },
  {
   "cell_type": "markdown",
   "metadata": {},
   "source": [
    "Aquí ingresamos la data vieja y la data nueva. Notemos que los cluster van variando si corremos el siguiente código varias veces, esto es por lo aleatorio de elegir los puntos, sin embargo solo cambia la etiqueta del cluster (1,2,3)."
   ]
  },
  {
   "cell_type": "code",
   "execution_count": 47,
   "metadata": {},
   "outputs": [
    {
     "data": {
      "text/plain": [
       "[[['Posición nueva obs. :', 7, 'Cluster:', 2],\n",
       "  ['Posición nueva obs. :', 6, 'Cluster:', 2],\n",
       "  ['Posición nueva obs. :', 0, 'Cluster:', 3],\n",
       "  ['Posición nueva obs. :', 2, 'Cluster:', 3],\n",
       "  ['Posición nueva obs. :', 1, 'Cluster:', 3]],\n",
       " ['Posición de observación Outlier:', [3, 4, 5]]]"
      ]
     },
     "execution_count": 47,
     "metadata": {},
     "output_type": "execute_result"
    }
   ],
   "source": [
    "clase_prueba = ClusterDatos(3,3)\n",
    "clase_prueba.predict(df_spiral, nueva_data)"
   ]
  }
 ],
 "metadata": {
  "kernelspec": {
   "display_name": "Python 3",
   "language": "python",
   "name": "python3"
  },
  "language_info": {
   "codemirror_mode": {
    "name": "ipython",
    "version": 3
   },
   "file_extension": ".py",
   "mimetype": "text/x-python",
   "name": "python",
   "nbconvert_exporter": "python",
   "pygments_lexer": "ipython3",
   "version": "3.7.6"
  }
 },
 "nbformat": 4,
 "nbformat_minor": 4
}
